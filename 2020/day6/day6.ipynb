{
 "metadata": {
  "language_info": {
   "codemirror_mode": {
    "name": "ipython",
    "version": 3
   },
   "file_extension": ".py",
   "mimetype": "text/x-python",
   "name": "python",
   "nbconvert_exporter": "python",
   "pygments_lexer": "ipython3",
   "version": "3.9.0-final"
  },
  "orig_nbformat": 2,
  "kernelspec": {
   "name": "python3",
   "display_name": "Python 3",
   "language": "python"
  }
 },
 "nbformat": 4,
 "nbformat_minor": 2,
 "cells": [
  {
   "cell_type": "code",
   "execution_count": 1,
   "metadata": {},
   "outputs": [],
   "source": [
    "inFile = open(\"input\", 'r') \n",
    "questions = inFile.readlines()"
   ]
  },
  {
   "cell_type": "code",
   "execution_count": 11,
   "metadata": {},
   "outputs": [],
   "source": [
    "groups = []\n",
    "tempList = []\n",
    "for q in questions:\n",
    "    if q == \"\\n\": \n",
    "        groups.append(tempList) \n",
    "        tempList = []\n",
    "    else: \n",
    "        tempList.append(q.replace('\\n', ''))\n",
    "groups.append(tempList) "
   ]
  },
  {
   "cell_type": "code",
   "execution_count": 43,
   "metadata": {},
   "outputs": [],
   "source": [
    "def findCount(group): \n",
    "    retSet = set() # contains q that are common to all person sets \n",
    "    setList = []\n",
    "    \n",
    "    # initial set \n",
    "    for c in group[0]: \n",
    "        retSet.add(c) \n",
    "    \n",
    "    # print(retSet)\n",
    "     \n",
    "    for person in group[1:]:\n",
    "        tempSet = set() \n",
    "        for c in person: \n",
    "            tempSet.add(c) \n",
    "        retSet.intersection_update(tempSet)\n",
    "      \n",
    "        # print(retSet)\n",
    "    \n",
    "    return len(retSet)"
   ]
  },
  {
   "cell_type": "code",
   "execution_count": 17,
   "metadata": {},
   "outputs": [],
   "source": [
    "sampleGroups = [\n",
    "    ['abc'],\n",
    "    ['a', 'b', 'c'], \n",
    "    ['ab', 'ac'],\n",
    "    ['a', 'a', 'a', 'a', 'a'],\n",
    "    ['b']\n",
    "]"
   ]
  },
  {
   "cell_type": "code",
   "execution_count": 44,
   "metadata": {
    "tags": []
   },
   "outputs": [
    {
     "output_type": "stream",
     "name": "stdout",
     "text": [
      "3260\n"
     ]
    }
   ],
   "source": [
    "total = 0\n",
    "for g in groups: \n",
    "    total += findCount(g)\n",
    "print(total)"
   ]
  },
  {
   "cell_type": "code",
   "execution_count": 41,
   "metadata": {},
   "outputs": [
    {
     "output_type": "stream",
     "name": "stdout",
     "text": [
      "{'c', 'a', 'b'}\n"
     ]
    },
    {
     "output_type": "execute_result",
     "data": {
      "text/plain": [
       "3"
      ]
     },
     "metadata": {},
     "execution_count": 41
    }
   ],
   "source": [
    "findCount(sampleGroups[0])"
   ]
  },
  {
   "cell_type": "code",
   "execution_count": null,
   "metadata": {},
   "outputs": [],
   "source": []
  }
 ]
}
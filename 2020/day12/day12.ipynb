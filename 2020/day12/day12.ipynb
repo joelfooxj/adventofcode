{
 "metadata": {
  "language_info": {
   "codemirror_mode": {
    "name": "ipython",
    "version": 3
   },
   "file_extension": ".py",
   "mimetype": "text/x-python",
   "name": "python",
   "nbconvert_exporter": "python",
   "pygments_lexer": "ipython3",
   "version": "3.9.0-final"
  },
  "orig_nbformat": 2,
  "kernelspec": {
   "name": "python3",
   "display_name": "Python 3",
   "language": "python"
  }
 },
 "nbformat": 4,
 "nbformat_minor": 2,
 "cells": [
  {
   "cell_type": "code",
   "execution_count": 108,
   "metadata": {},
   "outputs": [],
   "source": [
    "inFile = open(\"input\", 'r') \n",
    "actions = inFile.readlines()\n",
    "actions = [a.replace('\\n', '') for a in actions]\n",
    "\n",
    "sampleInput = [ \n",
    "    \"F10\",\n",
    "    \"N3\",\n",
    "    \"F7\",\n",
    "    \"R90\",\n",
    "    \"F11\"\n",
    "]\n",
    "\n",
    "def convertToDict(actions): \n",
    "    retDict = [] \n",
    "    for a in actions: \n",
    "        direction = a[0]\n",
    "        val = a[1:]\n",
    "        retDict.append({'direction':direction, 'val':val})\n",
    "    return retDict\n",
    "\n",
    "'''\n",
    "    270\n",
    "     n\n",
    "180 w e 0\n",
    "     s\n",
    "     90\n",
    "'''\n",
    "\n",
    "def convertDeg(degrees): \n",
    "    # convert degrees to NSWE \n",
    "    # assume only 90 degree \n",
    "    currDeg = abs(degrees)\n",
    "    if currDeg == 0:\n",
    "        return 'E'\n",
    "    elif currDeg == 90: \n",
    "        return 'S'\n",
    "    elif currDeg == 180: \n",
    "        return 'W'\n",
    "    elif currDeg == 270: \n",
    "        return 'N'\n",
    "    return \"Degree not valid\"\n",
    "\n",
    "sampleActions = convertToDict(sampleInput)\n",
    "ACTIONS = convertToDict(actions)"
   ]
  },
  {
   "cell_type": "code",
   "execution_count": 126,
   "metadata": {},
   "outputs": [],
   "source": [
    "quadrants = [\n",
    "    (1,1), #0 -> NE\n",
    "    (1,-1), #1 -> SE\n",
    "    (-1,-1), #2 -> SW\n",
    "    (-1,1) #3 -> NW\n",
    "]\n",
    "\n",
    "shiftQuads = {\n",
    "    90:1,\n",
    "    180:2,\n",
    "    270:3\n",
    "}\n",
    "\n",
    "def updateWaypoint(waypoint, action): \n",
    "    # LR increments direction \n",
    "    # NSEW sets direction\n",
    "    shift = action['direction']\n",
    "    v = int(action['val'])\n",
    "    quad = quadrants.index(\n",
    "        (1 if waypoint['x'] >= 0 else -1, \n",
    "        1 if waypoint['y'] >= 0 else -1)\n",
    "    )\n",
    "    tempX = waypoint['x']\n",
    "    tempY = waypoint['y']\n",
    "    # print(quad)\n",
    "    if shift == 'N': \n",
    "        waypoint['y'] += v\n",
    "    elif shift == 'S': \n",
    "        waypoint['y'] -= v\n",
    "    elif shift == 'E': \n",
    "        waypoint['x'] += v\n",
    "    elif shift == 'W': \n",
    "        waypoint['x'] -= v\n",
    "    elif shift == 'L' or shift == 'R': \n",
    "        if v == 180:\n",
    "            waypoint['x'] = tempX * -1\n",
    "            waypoint['y'] = tempY * -1\n",
    "        elif shift == 'L':\n",
    "            signs = quadrants[(quad - shiftQuads[v]) % 4]\n",
    "            # print(signs)\n",
    "            waypoint['x'] = abs(tempY) * signs[0]\n",
    "            waypoint['y'] = abs(tempX) * signs[1]\n",
    "        elif shift == 'R':\n",
    "            signs = quadrants[(quad + shiftQuads[v]) % 4]\n",
    "            # print(signs)\n",
    "            waypoint['x'] = abs(tempY) * signs[0]\n",
    "            waypoint['y'] = abs(tempX) * signs[1]\n",
    "    else: \n",
    "        print(\"Invalid direction\")\n",
    "    \n",
    "\n",
    "def updateBoat(boat, waypoint, action):\n",
    "    if action['direction'] == 'F':\n",
    "        boat['x'] += int(action['val'])*waypoint['x']\n",
    "        boat['y'] += int(action['val'])*waypoint['y']\n",
    "    else: \n",
    "        updateWaypoint(waypoint, action)\n",
    "        # print(waypoint)\n"
   ]
  },
  {
   "cell_type": "code",
   "execution_count": 127,
   "metadata": {},
   "outputs": [
    {
     "output_type": "stream",
     "name": "stdout",
     "text": [
      "{'x': 1, 'y': 0}\n"
     ]
    }
   ],
   "source": [
    "wp = {'x':-1, 'y': 0}\n",
    "updateWaypoint(wp, {'direction':'R', 'val':180})\n",
    "print(wp)"
   ]
  },
  {
   "cell_type": "code",
   "execution_count": 128,
   "metadata": {},
   "outputs": [
    {
     "output_type": "stream",
     "name": "stdout",
     "text": [
      "{'x': 16956, 'y': 18336}\n35292\n"
     ]
    }
   ],
   "source": [
    "waypoint = {'x':10, 'y': 1} # try using degrees -> east is 0 degrees \n",
    "boat = {'x':0, 'y':0}\n",
    "\n",
    "actionNodes = convertToDict(actions)\n",
    "\n",
    "for action in actionNodes: \n",
    "    updateBoat(boat, waypoint, action)\n",
    "    # print(boat)\n",
    "\n",
    "print(boat)\n",
    "print(abs(boat['x']) + abs(boat['y']))"
   ]
  },
  {
   "cell_type": "code",
   "execution_count": null,
   "metadata": {},
   "outputs": [],
   "source": []
  }
 ]
}
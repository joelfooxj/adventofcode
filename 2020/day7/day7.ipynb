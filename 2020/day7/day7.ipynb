{
 "metadata": {
  "language_info": {
   "codemirror_mode": {
    "name": "ipython",
    "version": 3
   },
   "file_extension": ".py",
   "mimetype": "text/x-python",
   "name": "python",
   "nbconvert_exporter": "python",
   "pygments_lexer": "ipython3",
   "version": "3.9.0-final"
  },
  "orig_nbformat": 2,
  "kernelspec": {
   "name": "python3",
   "display_name": "Python 3",
   "language": "python"
  }
 },
 "nbformat": 4,
 "nbformat_minor": 2,
 "cells": [
  {
   "cell_type": "code",
   "execution_count": 14,
   "metadata": {},
   "outputs": [],
   "source": [
    "inFile = open(\"input\", 'r') \n",
    "statements = inFile.readlines()\n",
    "statements = [s.replace('\\n', '').replace('.', '') for s in statements]"
   ]
  },
  {
   "cell_type": "code",
   "execution_count": 35,
   "metadata": {},
   "outputs": [
    {
     "output_type": "execute_result",
     "data": {
      "text/plain": [
       "'mirrored tan bags contain 1 plaid white bag, 3 vibrant beige bags, 3 drab silver bags, 1 pale blue bag'"
      ]
     },
     "metadata": {},
     "execution_count": 35
    }
   ],
   "source": [
    "statements[10]"
   ]
  },
  {
   "cell_type": "code",
   "execution_count": null,
   "metadata": {},
   "outputs": [],
   "source": [
    "# collect direct bags then indirect bags \n",
    "# 1. how to create tree of bags \n",
    "# 2. How to traverse and collect direct and indirect bags \n",
    "\n"
   ]
  },
  {
   "cell_type": "code",
   "execution_count": 12,
   "metadata": {},
   "outputs": [],
   "source": [
    "sampleInput = [ \n",
    "    \"light red bags contain 1 bright white bag 2 muted yellow bags\",\n",
    "\"dark orange bags contain 3 bright white bags 4 muted yellow bags\",\n",
    "\"bright white bags contain 1 shiny gold bag\",\n",
    "\"muted yellow bags contain 2 shiny gold bags 9 faded blue bags\",\n",
    "\"shiny gold bags contain 1 dark olive bag 2 vibrant plum bags\",\n",
    "\"dark olive bags contain 3 faded blue bags 4 dotted black bags\",\n",
    "\"vibrant plum bags contain 5 faded blue bags 6 dotted black bags\",\n",
    "\"faded blue bags contain no other bags\",\n",
    "\"dotted black bags contain no other bags\"\n",
    "]"
   ]
  },
  {
   "cell_type": "code",
   "execution_count": 62,
   "metadata": {},
   "outputs": [],
   "source": [
    "bagList = []\n",
    "bagNodes = {} \n"
   ]
  },
  {
   "cell_type": "code",
   "execution_count": 108,
   "metadata": {},
   "outputs": [],
   "source": [
    "def parseBags(statement): \n",
    "    # bagNode = {} \n",
    "    statement = statement.replace(' bags', '').replace(' bag', '')\n",
    "    container, contained = statement.split(\" contain \")\n",
    "    containedList = contained.split(', ')\n",
    "    containedList = [bag.strip() for bag in containedList]\n",
    "    containedList = [{'num':bag.split(' ', 1)[0], 'type':bag.split(' ', 1)[1]} for bag in containedList]\n",
    "    # bagNode[\"container\"] = container\n",
    "    # bagNode[\"contained\"] = containedList\n",
    "    return container, containedList\n",
    "\n",
    "        \n",
    "        "
   ]
  },
  {
   "cell_type": "code",
   "execution_count": 109,
   "metadata": {},
   "outputs": [
    {
     "output_type": "execute_result",
     "data": {
      "text/plain": [
       "('mirrored tan',\n",
       " [{'num': '1', 'type': 'plaid white'},\n",
       "  {'num': '3', 'type': 'vibrant beige'},\n",
       "  {'num': '3', 'type': 'drab silver'},\n",
       "  {'num': '1', 'type': 'pale blue'}])"
      ]
     },
     "metadata": {},
     "execution_count": 109
    }
   ],
   "source": [
    "parseBags(statements[10])"
   ]
  },
  {
   "cell_type": "code",
   "execution_count": 64,
   "metadata": {},
   "outputs": [
    {
     "output_type": "stream",
     "name": "stdout",
     "text": [
      "{'mirrored tan': ['plaid white', 'vibrant beige', 'drab silver', 'pale blue']}\n"
     ]
    }
   ],
   "source": [
    "container, containedList = parseBags(statements[10])\n",
    "bagNodes[container] = containedList \n",
    "print(bagNodes)"
   ]
  },
  {
   "cell_type": "code",
   "execution_count": 110,
   "metadata": {
    "tags": []
   },
   "outputs": [],
   "source": [
    "bagNodes = {}\n",
    "for s in statements: \n",
    "    container, containedList = parseBags(s)\n",
    "    bagNodes[container] = containedList"
   ]
  },
  {
   "cell_type": "code",
   "execution_count": 101,
   "metadata": {},
   "outputs": [
    {
     "output_type": "execute_result",
     "data": {
      "text/plain": [
       "[{'num': '1', 'type': 'vibrant chartreuse'}]"
      ]
     },
     "metadata": {},
     "execution_count": 101
    }
   ],
   "source": [
    "bagNodes['shiny gold']"
   ]
  },
  {
   "cell_type": "code",
   "execution_count": 53,
   "metadata": {},
   "outputs": [
    {
     "output_type": "stream",
     "name": "stdout",
     "text": [
      "{'shiny orange', 'pale beige', 'vibrant maroon', 'dull purple', 'vibrant orange', 'dull tomato', 'drab plum', 'dark olive', 'pale blue'}\n114\n"
     ]
    }
   ],
   "source": [
    "sum = 0\n",
    "\n",
    "# direct bags \n",
    "directBags = set()\n",
    "for node in bagList: \n",
    "    if 'shiny gold' in node['contained']: \n",
    "        directBags.add(node['container'])\n",
    "        sum += 1\n",
    "\n",
    "print(directBags)\n",
    "\n",
    "# for each cycle, either update the global set or update with the last cycle containers \n",
    "\n",
    "\n",
    "# all nested indirect bags \n",
    "currLen = len(directBags)\n",
    "lastSet = directBags\n",
    "while True:\n",
    "    currSet = set() \n",
    "    for node in bagList: \n",
    "        nodeSet = set(node['contained'])\n",
    "        if nodeSet.intersection(lastSet):\n",
    "            sum += 1\n",
    "            currSet.add(node['container'])\n",
    "    if not currSet: \n",
    "        print(\"currSet is empty\")\n",
    "        break\n",
    "    else:\n",
    "        lastSet = currSet\n",
    "\n",
    "print(sum)"
   ]
  },
  {
   "cell_type": "code",
   "execution_count": 57,
   "metadata": {},
   "outputs": [
    {
     "output_type": "stream",
     "name": "stdout",
     "text": [
      "No change\n335\n"
     ]
    }
   ],
   "source": [
    "\n",
    "# update the global set\n",
    "\n",
    "\n",
    "containerSet = set()\n",
    "\n",
    "for node in bagList: \n",
    "    if 'shiny gold' in node['contained']: \n",
    "        containerSet.add(node['container'])\n",
    "\n",
    "while True:\n",
    "    currLen = len(containerSet)\n",
    "    for node in bagList: \n",
    "        nodeSet = set(node['contained'])\n",
    "        if nodeSet.intersection(containerSet):\n",
    "            containerSet.add(node['container'])\n",
    "    if currLen == len(containerSet):\n",
    "        print(\"No change\")\n",
    "        break\n",
    "\n",
    "print(len(containerSet))"
   ]
  },
  {
   "cell_type": "code",
   "execution_count": 122,
   "metadata": {},
   "outputs": [
    {
     "output_type": "execute_result",
     "data": {
      "text/plain": [
       "[{'num': '1', 'type': 'shiny aqua'},\n",
       " {'num': '4', 'type': 'clear crimson'},\n",
       " {'num': '1', 'type': 'faded red'},\n",
       " {'num': '1', 'type': 'dull crimson'}]"
      ]
     },
     "metadata": {},
     "execution_count": 122
    }
   ],
   "source": [
    "bagNodes['vibrant chartreuse']"
   ]
  },
  {
   "cell_type": "code",
   "execution_count": 169,
   "metadata": {},
   "outputs": [],
   "source": [
    "# recursive function that checks sub nodes and counts them \n",
    "def checkBag(subNodes, bagNodes):\n",
    "    # print(\"Checking subnodes \" + str(subNodes))\n",
    "    total = 1\n",
    "    for n in subNodes:\n",
    "        if n['num'] == 'no': \n",
    "            # print(\"Returning 1\")\n",
    "            return total \n",
    "        elif n['type'] == 'shiny gold': \n",
    "            continue\n",
    "        else: \n",
    "            subSum = int(n['num'])*checkBag(bagNodes[n['type']], bagNodes)\n",
    "            total += subSum\n",
    "            # print(n['type'] + ' got ' + str(total))\n",
    "    return total  \n",
    "    \n",
    "    "
   ]
  },
  {
   "cell_type": "code",
   "execution_count": 170,
   "metadata": {},
   "outputs": [
    {
     "output_type": "stream",
     "name": "stdout",
     "text": [
      "{'shiny gold': [{'num': '2', 'type': 'dark red'}], 'dark red': [{'num': '2', 'type': 'dark orange'}], 'dark orange': [{'num': '2', 'type': 'dark yellow'}], 'dark yellow': [{'num': '2', 'type': 'dark green'}], 'dark green': [{'num': '2', 'type': 'dark blue'}], 'dark blue': [{'num': '2', 'type': 'dark violet'}], 'dark violet': [{'num': 'no', 'type': 'other'}]}\n126\n"
     ]
    }
   ],
   "source": [
    "sampleStatements = [\n",
    "    \"shiny gold bags contain 2 dark red bags\",\n",
    "    \"dark red bags contain 2 dark orange bags\",\n",
    "    \"dark orange bags contain 2 dark yellow bags\",\n",
    "    \"dark yellow bags contain 2 dark green bags\",\n",
    "    \"dark green bags contain 2 dark blue bags\",\n",
    "    \"dark blue bags contain 2 dark violet bags\",\n",
    "    \"dark violet bags contain no other bags\"\n",
    "] \n",
    "\n",
    "sampleBagNodes = {} \n",
    "for s in sampleStatements: \n",
    "    container, containedList = parseBags(s)\n",
    "    sampleBagNodes[container] = containedList\n",
    "\n",
    "print(sampleBagNodes)\n",
    "\n",
    "total = checkBag(sampleBagNodes['shiny gold'], sampleBagNodes)\n",
    "print(total - 1)\n"
   ]
  },
  {
   "cell_type": "code",
   "execution_count": 171,
   "metadata": {
    "tags": []
   },
   "outputs": [
    {
     "output_type": "stream",
     "name": "stdout",
     "text": [
      "2431\n"
     ]
    }
   ],
   "source": [
    "bagNodes = {} \n",
    "for s in statements: \n",
    "    container, containedList = parseBags(s)\n",
    "    bagNodes[container] = containedList\n",
    "\n",
    "# print(bagNodes)\n",
    "\n",
    "total = checkBag(bagNodes['shiny gold'], bagNodes)\n",
    "print(total - 1)\n"
   ]
  },
  {
   "cell_type": "code",
   "execution_count": 77,
   "metadata": {},
   "outputs": [
    {
     "output_type": "execute_result",
     "data": {
      "text/plain": [
       "['vibrant chartreuse']"
      ]
     },
     "metadata": {},
     "execution_count": 77
    }
   ],
   "source": [
    "bagNodes['shiny gold']"
   ]
  },
  {
   "cell_type": "code",
   "execution_count": null,
   "metadata": {},
   "outputs": [],
   "source": []
  }
 ]
}
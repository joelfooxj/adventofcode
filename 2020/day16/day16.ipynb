{
 "metadata": {
  "language_info": {
   "codemirror_mode": {
    "name": "ipython",
    "version": 3
   },
   "file_extension": ".py",
   "mimetype": "text/x-python",
   "name": "python",
   "nbconvert_exporter": "python",
   "pygments_lexer": "ipython3",
   "version": "3.9.0-final"
  },
  "orig_nbformat": 2,
  "kernelspec": {
   "name": "python3",
   "display_name": "Python 3",
   "language": "python"
  }
 },
 "nbformat": 4,
 "nbformat_minor": 2,
 "cells": [
  {
   "cell_type": "code",
   "execution_count": 160,
   "metadata": {},
   "outputs": [
    {
     "output_type": "stream",
     "name": "stdout",
     "text": [
      "departure location {'range1': [33, 430], 'range2': [456, 967]}\ndeparture station {'range1': [42, 864], 'range2': [875, 957]}\ndeparture platform {'range1': [42, 805], 'range2': [821, 968]}\ndeparture track {'range1': [34, 74], 'range2': [93, 967]}\ndeparture date {'range1': [40, 399], 'range2': [417, 955]}\ndeparture time {'range1': [30, 774], 'range2': [797, 950]}\narrival location {'range1': [50, 487], 'range2': [507, 954]}\narrival station {'range1': [34, 693], 'range2': [718, 956]}\narrival platform {'range1': [42, 729], 'range2': [751, 959]}\narrival track {'range1': [28, 340], 'range2': [349, 968]}\nclass {'range1': [49, 524], 'range2': [543, 951]}\nduration {'range1': [40, 372], 'range2': [397, 951]}\nprice {'range1': [48, 922], 'range2': [939, 951]}\nroute {'range1': [33, 642], 'range2': [666, 960]}\nrow {'range1': [39, 238], 'range2': [255, 973]}\nseat {'range1': [48, 148], 'range2': [161, 973]}\ntrain {'range1': [50, 604], 'range2': [630, 971]}\ntype {'range1': [29, 299], 'range2': [316, 952]}\nwagon {'range1': [45, 898], 'range2': [921, 966]}\nzone {'range1': [34, 188], 'range2': [212, 959]}\n"
     ]
    }
   ],
   "source": [
    "inFile = open(\"input\", 'r') \n",
    "lines = inFile.readlines()\n",
    "chunks = []\n",
    "tempChunk = []\n",
    "for l in lines: \n",
    "    if l == \"\\n\": \n",
    "        chunks.append(tempChunk)\n",
    "        tempChunk = []\n",
    "    else:\n",
    "        tempChunk.append(l.replace('\\n', ''))\n",
    "chunks.append(tempChunk)\n",
    "\n",
    "rulesLines = chunks[0]\n",
    "myTicketLines = chunks[1]\n",
    "otherTicketsLines = chunks[2]\n",
    "\n",
    "rules = {}\n",
    "for r in rulesLines: \n",
    "    # print(r)\n",
    "    parsed = r.split(': ')\n",
    "    field = parsed[0]\n",
    "    ranges = parsed[1].split(' or ')\n",
    "    range1 = [int(n) for n in ranges[0].split('-')]\n",
    "    range2 = [int(n) for n in ranges[1].split('-')]\n",
    "    rules[field] = {'range1': range1, 'range2': range2}\n",
    "\n",
    "for r in rules: \n",
    "    print(r, rules[r])\n",
    "\n",
    "def parseTicket(ticketStr): \n",
    "    return [int(val) for val in ticketStr.split(',')]\n",
    "\n",
    "myTicket = parseTicket(myTicketLines[1])\n",
    "\n",
    "otherTickets = [parseTicket(tStr) for tStr in otherTicketsLines[1:]]"
   ]
  },
  {
   "cell_type": "code",
   "execution_count": 161,
   "metadata": {},
   "outputs": [],
   "source": [
    "def invalidVals(vals, rules):\n",
    "    # each ticket is a list of vals\n",
    "    # invalid val is a val not valid for ANY field\n",
    "    # invalid = [] \n",
    "    for val in vals: \n",
    "        valid = False\n",
    "        for r in rules: \n",
    "            range1 = rules[r]['range1']\n",
    "            range2 = rules[r]['range2']\n",
    "            if range1[0] <= val <= range1[1] or range2[0] <= val <= range2[1]: \n",
    "                valid = True\n",
    "                break\n",
    "        if not valid: \n",
    "            return val\n",
    "    return None \n"
   ]
  },
  {
   "cell_type": "code",
   "execution_count": 162,
   "metadata": {},
   "outputs": [],
   "source": [
    "errors = []\n",
    "validTickets = []\n",
    "for ticket in otherTickets: \n",
    "    ret = invalidVals(ticket, rules)\n",
    "    if ret == None: \n",
    "        validTickets.append(ticket)\n",
    "    else: \n",
    "        errors.append(ret)"
   ]
  },
  {
   "cell_type": "code",
   "execution_count": 163,
   "metadata": {},
   "outputs": [
    {
     "output_type": "execute_result",
     "data": {
      "text/plain": [
       "26026"
      ]
     },
     "metadata": {},
     "execution_count": 163
    }
   ],
   "source": [
    "sum(errors) # invalidVals works"
   ]
  },
  {
   "cell_type": "code",
   "execution_count": 191,
   "metadata": {},
   "outputs": [
    {
     "output_type": "stream",
     "name": "stdout",
     "text": [
      "[692, 851, 318, 466, 179, 532, 113, 599, 514, 723, 763, 107, 559, 921, 666, 118, 74, 333, 717, 296, 318, 462, 131, 601, 428, 519, 421, 729, 362, 423, 482, 728, 279, 353, 51, 338, 720, 765, 338, 773, 354, 889, 287, 321, 689, 365, 666, 836, 355, 550, 317, 352, 802, 470, 600, 800, 823, 463, 368, 485, 886, 249, 641, 295, 467, 365, 275, 893, 213, 591, 334, 687, 419, 221, 522, 559, 520, 135, 633, 462, 51, 256, 690, 639, 855, 669, 878, 272, 890, 60, 274, 147, 296, 552, 834, 66, 797, 65, 756, 217, 364, 428, 633, 64, 129, 475, 564, 288, 939, 723, 633, 228, 884, 514, 475, 559, 562, 582, 559, 228, 766, 633, 759, 427, 505, 559, 851, 329, 233, 763, 563, 895, 883, 398, 573, 359, 290, 833, 70, 733, 475, 944, 586, 683, 167, 864, 761, 753, 547, 512, 682, 602, 351, 511, 368, 487, 802, 725, 53, 468, 174, 564, 685, 844, 227, 676, 276, 125, 679, 564, 522, 594, 63, 327, 875, 765, 234, 372, 354, 128, 264, 857, 142, 946, 721, 461, 771, 562, 277, 671]\n"
     ]
    }
   ],
   "source": [
    "# given the vals in the position of all valid tickets, \n",
    "# work out for which rule range it is valid in \n",
    "\n",
    "positionVals = [] \n",
    "positionDict = {}\n",
    "for i in range(len(validTickets[0])):\n",
    "    positionVals.append([t[i] for t in validTickets])\n",
    "    positionDict[i] = [t[i] for t in validTickets]\n",
    "\n",
    "\n",
    "print(positionDict[0])"
   ]
  },
  {
   "cell_type": "code",
   "execution_count": 192,
   "metadata": {
    "tags": []
   },
   "outputs": [
    {
     "output_type": "stream",
     "name": "stdout",
     "text": [
      "checking 0\nchecking 1\nchecking 2\nchecking 3\nchecking 4\nchecking 5\nchecking 6\nchecking 7\nchecking 8\nchecking 9\nchecking 10\nchecking 11\nchecking 12\nchecking 13\nchecking 14\nchecking 15\n{'train', 'seat', 'arrival location', 'departure location', 'departure station', 'departure track', 'arrival track', 'zone', 'arrival platform', 'departure platform', 'route', 'departure date', 'arrival station', 'duration', 'price', 'departure time', 'row', 'class', 'type'}\n{15: 'wagon'}\nchecking 0\nchecking 1\nchecking 2\nchecking 3\nchecking 4\nchecking 5\nchecking 6\nchecking 7\nchecking 8\nchecking 9\nchecking 10\nchecking 11\nchecking 12\nchecking 13\nchecking 14\nchecking 16\nchecking 17\nchecking 18\n{'train', 'seat', 'arrival location', 'departure location', 'departure station', 'departure track', 'arrival track', 'zone', 'arrival platform', 'departure platform', 'route', 'departure date', 'arrival station', 'price', 'departure time', 'row', 'class', 'type'}\n{15: 'wagon', 18: 'duration'}\nchecking 0\nchecking 1\nchecking 2\n{'train', 'seat', 'arrival location', 'departure location', 'departure station', 'departure track', 'zone', 'arrival platform', 'departure platform', 'route', 'departure date', 'arrival station', 'price', 'departure time', 'row', 'class', 'type'}\n{15: 'wagon', 18: 'duration', 2: 'arrival track'}\nchecking 0\nchecking 1\nchecking 3\nchecking 4\nchecking 5\nchecking 6\nchecking 7\nchecking 8\nchecking 9\nchecking 10\nchecking 11\nchecking 12\nchecking 13\nchecking 14\nchecking 16\nchecking 17\n{'train', 'seat', 'arrival location', 'departure location', 'departure station', 'departure track', 'zone', 'arrival platform', 'departure platform', 'route', 'departure date', 'arrival station', 'price', 'departure time', 'row', 'class'}\n{15: 'wagon', 18: 'duration', 2: 'arrival track', 17: 'type'}\nchecking 0\nchecking 1\nchecking 3\nchecking 4\n{'train', 'seat', 'arrival location', 'departure location', 'departure station', 'departure track', 'zone', 'arrival platform', 'departure platform', 'route', 'departure date', 'arrival station', 'departure time', 'row', 'class'}\n{15: 'wagon', 18: 'duration', 2: 'arrival track', 17: 'type', 4: 'price'}\nchecking 0\nchecking 1\nchecking 3\nchecking 5\nchecking 6\nchecking 7\n{'train', 'seat', 'arrival location', 'departure location', 'departure station', 'departure track', 'zone', 'arrival platform', 'departure platform', 'departure date', 'arrival station', 'departure time', 'row', 'class'}\n{15: 'wagon', 18: 'duration', 2: 'arrival track', 17: 'type', 4: 'price', 7: 'route'}\nchecking 0\nchecking 1\nchecking 3\nchecking 5\nchecking 6\nchecking 8\nchecking 9\nchecking 10\nchecking 11\nchecking 12\nchecking 13\nchecking 14\n{'train', 'arrival location', 'departure location', 'departure station', 'departure track', 'zone', 'arrival platform', 'departure platform', 'departure date', 'arrival station', 'departure time', 'row', 'class'}\n{15: 'wagon', 18: 'duration', 2: 'arrival track', 17: 'type', 4: 'price', 7: 'route', 14: 'seat'}\nchecking 0\nchecking 1\nchecking 3\nchecking 5\nchecking 6\nchecking 8\nchecking 9\n{'arrival location', 'departure location', 'departure station', 'departure track', 'zone', 'arrival platform', 'departure platform', 'departure date', 'arrival station', 'departure time', 'row', 'class'}\n{15: 'wagon', 18: 'duration', 2: 'arrival track', 17: 'type', 4: 'price', 7: 'route', 14: 'seat', 9: 'train'}\nchecking 0\nchecking 1\nchecking 3\nchecking 5\nchecking 6\n{'arrival location', 'departure location', 'departure station', 'zone', 'arrival platform', 'departure platform', 'departure date', 'arrival station', 'departure time', 'row', 'class'}\n{15: 'wagon', 18: 'duration', 2: 'arrival track', 17: 'type', 4: 'price', 7: 'route', 14: 'seat', 9: 'train', 6: 'departure track'}\nchecking 0\nchecking 1\nchecking 3\n{'arrival location', 'departure location', 'zone', 'arrival platform', 'departure platform', 'departure date', 'arrival station', 'departure time', 'row', 'class'}\n{15: 'wagon', 18: 'duration', 2: 'arrival track', 17: 'type', 4: 'price', 7: 'route', 14: 'seat', 9: 'train', 6: 'departure track', 3: 'departure station'}\nchecking 0\nchecking 1\nchecking 5\nchecking 8\nchecking 10\n{'arrival location', 'departure location', 'zone', 'arrival platform', 'departure date', 'arrival station', 'departure time', 'row', 'class'}\n{15: 'wagon', 18: 'duration', 2: 'arrival track', 17: 'type', 4: 'price', 7: 'route', 14: 'seat', 9: 'train', 6: 'departure track', 3: 'departure station', 10: 'departure platform'}\nchecking 0\nchecking 1\nchecking 5\nchecking 8\nchecking 11\nchecking 12\nchecking 13\nchecking 16\nchecking 19\n{'arrival location', 'departure location', 'zone', 'arrival platform', 'departure date', 'arrival station', 'row', 'class'}\n{15: 'wagon', 18: 'duration', 2: 'arrival track', 17: 'type', 4: 'price', 7: 'route', 14: 'seat', 9: 'train', 6: 'departure track', 3: 'departure station', 10: 'departure platform', 19: 'departure time'}\nchecking 0\nchecking 1\n{'arrival location', 'zone', 'arrival platform', 'departure date', 'arrival station', 'row', 'class'}\n{15: 'wagon', 18: 'duration', 2: 'arrival track', 17: 'type', 4: 'price', 7: 'route', 14: 'seat', 9: 'train', 6: 'departure track', 3: 'departure station', 10: 'departure platform', 19: 'departure time', 1: 'departure location'}\nchecking 0\nchecking 5\nchecking 8\n{'arrival location', 'zone', 'arrival platform', 'arrival station', 'row', 'class'}\n{15: 'wagon', 18: 'duration', 2: 'arrival track', 17: 'type', 4: 'price', 7: 'route', 14: 'seat', 9: 'train', 6: 'departure track', 3: 'departure station', 10: 'departure platform', 19: 'departure time', 1: 'departure location', 8: 'departure date'}\nchecking 0\n{'arrival location', 'arrival platform', 'arrival station', 'row', 'class'}\n{15: 'wagon', 18: 'duration', 2: 'arrival track', 17: 'type', 4: 'price', 7: 'route', 14: 'seat', 9: 'train', 6: 'departure track', 3: 'departure station', 10: 'departure platform', 19: 'departure time', 1: 'departure location', 8: 'departure date', 0: 'zone'}\nchecking 5\nchecking 11\nchecking 12\nchecking 13\nchecking 16\n{'arrival location', 'arrival platform', 'row', 'class'}\n{15: 'wagon', 18: 'duration', 2: 'arrival track', 17: 'type', 4: 'price', 7: 'route', 14: 'seat', 9: 'train', 6: 'departure track', 3: 'departure station', 10: 'departure platform', 19: 'departure time', 1: 'departure location', 8: 'departure date', 0: 'zone', 16: 'arrival station'}\nchecking 5\nchecking 11\n{'arrival location', 'arrival platform', 'row'}\n{15: 'wagon', 18: 'duration', 2: 'arrival track', 17: 'type', 4: 'price', 7: 'route', 14: 'seat', 9: 'train', 6: 'departure track', 3: 'departure station', 10: 'departure platform', 19: 'departure time', 1: 'departure location', 8: 'departure date', 0: 'zone', 16: 'arrival station', 11: 'class'}\nchecking 5\nchecking 12\nchecking 13\n{'arrival location', 'arrival platform'}\n{15: 'wagon', 18: 'duration', 2: 'arrival track', 17: 'type', 4: 'price', 7: 'route', 14: 'seat', 9: 'train', 6: 'departure track', 3: 'departure station', 10: 'departure platform', 19: 'departure time', 1: 'departure location', 8: 'departure date', 0: 'zone', 16: 'arrival station', 11: 'class', 13: 'row'}\nchecking 5\nchecking 12\n{'arrival location'}\n{15: 'wagon', 18: 'duration', 2: 'arrival track', 17: 'type', 4: 'price', 7: 'route', 14: 'seat', 9: 'train', 6: 'departure track', 3: 'departure station', 10: 'departure platform', 19: 'departure time', 1: 'departure location', 8: 'departure date', 0: 'zone', 16: 'arrival station', 11: 'class', 13: 'row', 12: 'arrival platform'}\nchecking 5\nset()\n{15: 'wagon', 18: 'duration', 2: 'arrival track', 17: 'type', 4: 'price', 7: 'route', 14: 'seat', 9: 'train', 6: 'departure track', 3: 'departure station', 10: 'departure platform', 19: 'departure time', 1: 'departure location', 8: 'departure date', 0: 'zone', 16: 'arrival station', 11: 'class', 13: 'row', 12: 'arrival platform', 5: 'arrival location'}\n"
     ]
    }
   ],
   "source": [
    "ruleDict = {}\n",
    "ruleSet = set([r for r in rules])\n",
    "\n",
    "\n",
    "while positionDict: \n",
    "    for p in positionDict:\n",
    "        validSet = set()\n",
    "        print(\"checking\", p)\n",
    "        for r in ruleSet: \n",
    "            totalTrue = 0 # should match 190 == vals in p \n",
    "            range1 = rules[r]['range1']\n",
    "            range2 = rules[r]['range2']\n",
    "            for val in positionDict[p]: \n",
    "                if range1[0] <= val <= range1[1] or range2[0] <= val <= range2[1]:\n",
    "                    totalTrue += 1        \n",
    "            if totalTrue == len(positionDict[p]): \n",
    "                validSet.add(r)\n",
    "        if len(validSet) == 1: \n",
    "            matchedRule = validSet.pop()\n",
    "            ruleSet.remove(matchedRule)\n",
    "            print(ruleSet)\n",
    "            del positionDict[p]\n",
    "            ruleDict[p] = matchedRule\n",
    "            print(ruleDict)\n",
    "            break\n",
    "            \n",
    "\n",
    "    \n",
    "# magbe it's where it's the only rule wherein it is valid? \n",
    "# so, have to whittle down the rules \n",
    "# For every round, there's only one pos that has one valid rule \n",
    "# Find the pos with only one valid rule \n",
    "# store that rule for that pos\n",
    "# remove rule and pos \n"
   ]
  },
  {
   "cell_type": "code",
   "execution_count": 194,
   "metadata": {},
   "outputs": [
    {
     "output_type": "execute_result",
     "data": {
      "text/plain": [
       "{15: 'wagon',\n",
       " 18: 'duration',\n",
       " 2: 'arrival track',\n",
       " 17: 'type',\n",
       " 4: 'price',\n",
       " 7: 'route',\n",
       " 14: 'seat',\n",
       " 9: 'train',\n",
       " 6: 'departure track',\n",
       " 3: 'departure station',\n",
       " 10: 'departure platform',\n",
       " 19: 'departure time',\n",
       " 1: 'departure location',\n",
       " 8: 'departure date',\n",
       " 0: 'zone',\n",
       " 16: 'arrival station',\n",
       " 11: 'class',\n",
       " 13: 'row',\n",
       " 12: 'arrival platform',\n",
       " 5: 'arrival location'}"
      ]
     },
     "metadata": {},
     "execution_count": 194
    }
   ],
   "source": [
    "ruleDict"
   ]
  },
  {
   "cell_type": "code",
   "execution_count": 137,
   "metadata": {},
   "outputs": [
    {
     "output_type": "execute_result",
     "data": {
      "text/plain": [
       "{'departure location': {'range1': [33, 430], 'range2': [456, 967]},\n",
       " 'departure station': {'range1': [42, 864], 'range2': [875, 957]},\n",
       " 'departure platform': {'range1': [42, 805], 'range2': [821, 968]},\n",
       " 'departure track': {'range1': [34, 74], 'range2': [93, 967]},\n",
       " 'departure date': {'range1': [40, 399], 'range2': [417, 955]},\n",
       " 'departure time': {'range1': [30, 774], 'range2': [797, 950]},\n",
       " 'arrival location': {'range1': [50, 487], 'range2': [507, 954]},\n",
       " 'arrival station': {'range1': [34, 693], 'range2': [718, 956]},\n",
       " 'arrival platform': {'range1': [42, 729], 'range2': [751, 959]},\n",
       " 'arrival track': {'range1': [28, 340], 'range2': [349, 968]},\n",
       " 'class': {'range1': [49, 524], 'range2': [543, 951]},\n",
       " 'duration': {'range1': [40, 372], 'range2': [397, 951]},\n",
       " 'price': {'range1': [48, 922], 'range2': [939, 951]},\n",
       " 'route': {'range1': [33, 642], 'range2': [666, 960]},\n",
       " 'row': {'range1': [39, 238], 'range2': [255, 973]},\n",
       " 'seat': {'range1': [48, 148], 'range2': [161, 973]},\n",
       " 'train': {'range1': [50, 604], 'range2': [630, 971]},\n",
       " 'type': {'range1': [29, 299], 'range2': [316, 952]},\n",
       " 'wagon': {'range1': [45, 898], 'range2': [921, 966]},\n",
       " 'zone': {'range1': [34, 188], 'range2': [212, 959]}}"
      ]
     },
     "metadata": {},
     "execution_count": 137
    }
   ],
   "source": [
    "rules"
   ]
  },
  {
   "cell_type": "code",
   "execution_count": 196,
   "metadata": {},
   "outputs": [
    {
     "output_type": "stream",
     "name": "stdout",
     "text": [
      "[6, 3, 10, 19, 1, 8]\n"
     ]
    },
    {
     "output_type": "execute_result",
     "data": {
      "text/plain": [
       "1305243193339"
      ]
     },
     "metadata": {},
     "execution_count": 196
    }
   ],
   "source": [
    "depPos = [k for k in ruleDict if 'departure' in ruleDict[k]]\n",
    "print(depPos)\n",
    "total = 1\n",
    "for d in depPos: \n",
    "    total *= myTicket[d]\n",
    "total"
   ]
  },
  {
   "cell_type": "code",
   "execution_count": 127,
   "metadata": {},
   "outputs": [
    {
     "output_type": "execute_result",
     "data": {
      "text/plain": [
       "[137,\n",
       " 173,\n",
       " 167,\n",
       " 139,\n",
       " 73,\n",
       " 67,\n",
       " 61,\n",
       " 179,\n",
       " 103,\n",
       " 113,\n",
       " 163,\n",
       " 71,\n",
       " 97,\n",
       " 101,\n",
       " 109,\n",
       " 59,\n",
       " 131,\n",
       " 127,\n",
       " 107,\n",
       " 53]"
      ]
     },
     "metadata": {},
     "execution_count": 127
    }
   ],
   "source": [
    "myTicket"
   ]
  },
  {
   "cell_type": "code",
   "execution_count": null,
   "metadata": {},
   "outputs": [],
   "source": []
  }
 ]
}
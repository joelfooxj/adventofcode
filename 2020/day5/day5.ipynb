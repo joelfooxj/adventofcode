{
 "metadata": {
  "language_info": {
   "codemirror_mode": {
    "name": "ipython",
    "version": 3
   },
   "file_extension": ".py",
   "mimetype": "text/x-python",
   "name": "python",
   "nbconvert_exporter": "python",
   "pygments_lexer": "ipython3",
   "version": "3.9.0-final"
  },
  "orig_nbformat": 2,
  "kernelspec": {
   "name": "python3",
   "display_name": "Python 3",
   "language": "python"
  }
 },
 "nbformat": 4,
 "nbformat_minor": 2,
 "cells": [
  {
   "cell_type": "code",
   "execution_count": 41,
   "metadata": {},
   "outputs": [],
   "source": [
    "rows = 128 \n",
    "cols = 8"
   ]
  },
  {
   "cell_type": "code",
   "execution_count": 42,
   "metadata": {},
   "outputs": [],
   "source": [
    "inFile = open(\"input\", 'r')\n",
    "seats = inFile.readlines()\n",
    "seats = [seat.replace('\\n', '') for seat in seats]"
   ]
  },
  {
   "cell_type": "code",
   "execution_count": 7,
   "metadata": {},
   "outputs": [
    {
     "output_type": "execute_result",
     "data": {
      "text/plain": [
       "'BBFFBBF'"
      ]
     },
     "metadata": {},
     "execution_count": 7
    }
   ],
   "source": [
    "seats[0][:7]"
   ]
  },
  {
   "cell_type": "code",
   "execution_count": 61,
   "metadata": {},
   "outputs": [],
   "source": [
    "def findSeatID(seat): \n",
    "    rowRange = [0, rows]\n",
    "    for r in seat[:7]:\n",
    "        # get next half\n",
    "        rowHalf = (rowRange[1] - rowRange[0])/2\n",
    "        if r == 'F': \n",
    "            # lower half \n",
    "            rowRange[1] = rowRange[0] + rowHalf\n",
    "        elif r == 'B': \n",
    "            # upper half\n",
    "            rowRange[0] = rowRange[0] + rowHalf\n",
    "        # print(\"start = {0}, end = {1}\".format(rowRange[0], rowRange[1]))\n",
    "    colRange = [0, cols]\n",
    "    for c in seat[-3:]:\n",
    "         colHalf = (colRange[1] - colRange[0])/2\n",
    "         if c == 'L': \n",
    "             colRange[1] = colRange[0] + colHalf\n",
    "         elif c == 'R': \n",
    "             colRange[0] = colRange[0] + colHalf \n",
    "        #  print(\"start = {0}, end = {1}\".format(colRange[0], colRange[1]))\n",
    "    # print(rowRange[0])\n",
    "    # print(colRange[0])\n",
    "    return (rowRange[0]*8) + colRange[0]\n",
    "\n",
    "\n",
    "            \n",
    "            "
   ]
  },
  {
   "cell_type": "code",
   "execution_count": 65,
   "metadata": {},
   "outputs": [
    {
     "output_type": "stream",
     "name": "stdout",
     "text": [
      "896.0\n"
     ]
    }
   ],
   "source": [
    "maxID = 0\n",
    "for s in seats: \n",
    "    currID = findSeatID(s)\n",
    "    if maxID < currID: \n",
    "        maxID = currID \n",
    "print(maxID)\n"
   ]
  },
  {
   "cell_type": "code",
   "execution_count": 38,
   "metadata": {},
   "outputs": [
    {
     "output_type": "execute_result",
     "data": {
      "text/plain": [
       "'RLL'"
      ]
     },
     "metadata": {},
     "execution_count": 38
    }
   ],
   "source": []
  },
  {
   "cell_type": "code",
   "execution_count": 67,
   "metadata": {},
   "outputs": [],
   "source": [
    "seatIDs = [] \n",
    "for s in seats: \n",
    "    seatIDs.append(findSeatID(s))\n"
   ]
  },
  {
   "cell_type": "code",
   "execution_count": 72,
   "metadata": {},
   "outputs": [
    {
     "output_type": "stream",
     "name": "stdout",
     "text": [
      "0\n1\n2\n3\n4\n5\n6\n7\n8\n9\n10\n11\n12\n13\n14\n15\n16\n17\n18\n19\n20\n21\n22\n23\n24\n25\n26\n27\n28\n29\n30\n31\n32\n33\n34\n35\n36\n37\n38\n39\n40\n41\n42\n43\n44\n45\n46\n47\n48\n49\n50\n51\n52\n659\n"
     ]
    }
   ],
   "source": [
    "for i in range(897): \n",
    "    if i not in seatIDs: \n",
    "        print(i)"
   ]
  },
  {
   "cell_type": "code",
   "execution_count": null,
   "metadata": {},
   "outputs": [],
   "source": []
  }
 ]
}
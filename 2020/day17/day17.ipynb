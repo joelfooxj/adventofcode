{
 "metadata": {
  "language_info": {
   "codemirror_mode": {
    "name": "ipython",
    "version": 3
   },
   "file_extension": ".py",
   "mimetype": "text/x-python",
   "name": "python",
   "nbconvert_exporter": "python",
   "pygments_lexer": "ipython3",
   "version": "3.9.0-final"
  },
  "orig_nbformat": 2,
  "kernelspec": {
   "name": "python3",
   "display_name": "Python 3",
   "language": "python"
  }
 },
 "nbformat": 4,
 "nbformat_minor": 2,
 "cells": [
  {
   "cell_type": "code",
   "execution_count": 208,
   "metadata": {},
   "outputs": [
    {
     "output_type": "stream",
     "name": "stdout",
     "text": [
      "['.', '#', '.']\n['.', '.', '#']\n['#', '#', '#']\n"
     ]
    }
   ],
   "source": [
    "inFile = open(\"input\", 'r') \n",
    "lines = inFile.readlines()\n",
    "sampleLines = [\n",
    "    '.#.',\n",
    "    '..#',\n",
    "    '###'\n",
    "]\n",
    "\n",
    "def convertLines(lines): \n",
    "    return [list(l.replace('\\n', '')) for l in lines]\n",
    "\n",
    "def printMatrix(grid): \n",
    "    for level in grid: \n",
    "        for row in level: \n",
    "            print(row)\n",
    "        print()\n",
    "\n",
    "sampleGrid = convertLines(sampleLines) \n",
    "for row in sampleGrid: \n",
    "    print(row)"
   ]
  },
  {
   "cell_type": "code",
   "execution_count": 300,
   "metadata": {},
   "outputs": [],
   "source": [
    "from itertools import product\n",
    "from copy import deepcopy\n",
    "\n",
    "def checkNeighbours(pos, grid):\n",
    "    ''' \n",
    "    Checks neighbouring cubes and returns number of active neighbours\n",
    "    pos = x,y,z\n",
    "    ''' \n",
    "    active = 0 \n",
    "    positionSet = set(product((0,1,-1), repeat=3))\n",
    "    positionSet.remove((0,0,0))\n",
    "    for position in positionSet:\n",
    "        try: \n",
    "            cube = grid[pos[0] + position[0]][pos[1] + position[1]][pos[2] + position[2]]\n",
    "        except: \n",
    "            continue\n",
    "\n",
    "        if cube == '#': \n",
    "            active += 1\n",
    "    return active \n",
    "\n",
    "def expandGrid(grid, cycle): \n",
    "    '''\n",
    "    Expand grid\n",
    "    Add empty levels above and below \n",
    "    Add cubes around current levels  \n",
    "    grid = levels x row x columns\n",
    "    '''\n",
    "    # Get x,y measurements of the current grid \n",
    "    # yLen = len(grid)\n",
    "    if cycle > 1: \n",
    "        xLen = len(grid[0][0])\n",
    "        yLen = len(grid[0])\n",
    "        newXlen = xLen + 2\n",
    "        newYlen = yLen + 2\n",
    "        for level in grid: \n",
    "            for row in level: \n",
    "                row.append('.')\n",
    "                row.insert(0, '.')\n",
    "            level.append(['.']*newXlen)\n",
    "            level.insert(0,['.']*newXlen)\n",
    "        newLevel = [] \n",
    "        for r in range(newYlen): \n",
    "            newLevel.append(['.']*newXlen)\n",
    "        grid.append(deepcopy(newLevel))\n",
    "        grid.insert(0,deepcopy(newLevel))\n",
    "    else: \n",
    "        # grid is currently 2D \n",
    "        xLen = len(grid[0])\n",
    "        yLen = len(grid)\n",
    "        grid = [grid]\n",
    "        newLevel = []\n",
    "        for r in range(yLen): \n",
    "            newLevel.append(['.']*xLen)\n",
    "        grid.append(deepcopy(newLevel))\n",
    "        grid.insert(0,deepcopy(newLevel))\n",
    "    return grid\n",
    "\n",
    "def countActive(grid): \n",
    "    active = 0\n",
    "    for level in grid: \n",
    "        for row in level: \n",
    "            for cube in row: \n",
    "                if cube == '#': \n",
    "                    active += 1\n",
    "    return active\n",
    "\n"
   ]
  },
  {
   "cell_type": "code",
   "execution_count": 309,
   "metadata": {},
   "outputs": [
    {
     "output_type": "execute_result",
     "data": {
      "text/plain": [
       "5"
      ]
     },
     "metadata": {},
     "execution_count": 309
    }
   ],
   "source": [
    "grid = convertLines(sampleLines) \n",
    "grid = expandGrid(grid, i)\n",
    "checkNeighbours((0,0,0), grid)"
   ]
  },
  {
   "cell_type": "code",
   "execution_count": 306,
   "metadata": {
    "tags": []
   },
   "outputs": [
    {
     "output_type": "stream",
     "name": "stdout",
     "text": [
      "cycle: 1\n['.', '.', '.']\n['.', '.', '.']\n['.', '.', '.']\n\n['.', '#', '.']\n['.', '.', '#']\n['#', '#', '#']\n\n['.', '.', '.']\n['.', '.', '.']\n['.', '.', '.']\n\nResult\n['.', '.', '.']\n['.', '.', '.']\n['.', '.', '#']\n\n['.', '.', '.']\n['.', '.', '#']\n['#', '#', '#']\n\n['.', '.', '.']\n['.', '.', '.']\n['.', '.', '#']\n\n"
     ]
    },
    {
     "output_type": "execute_result",
     "data": {
      "text/plain": [
       "6"
      ]
     },
     "metadata": {},
     "execution_count": 306
    }
   ],
   "source": [
    "grid = convertLines(sampleLines) \n",
    "for i in range(1, 2): \n",
    "    grid = expandGrid(grid, i)\n",
    "    newGrid = deepcopy(grid)\n",
    "    print(\"cycle:\", i)\n",
    "    printMatrix(newGrid)\n",
    "    for m in range(len(grid)):\n",
    "        level = grid[m] \n",
    "        for n in range(len(level)): \n",
    "            row = level[n]\n",
    "            for k in range(len(row)): \n",
    "                cube = row[k]\n",
    "                active = checkNeighbours((m,n,k), grid)\n",
    "                if cube == '#' and not (active == 2 or active == 3): \n",
    "                    newGrid[m][n][k] = '.'\n",
    "                elif cube == '.' and active == 3: \n",
    "                    newGrid[m][n][k] = '#'\n",
    "    grid = newGrid\n",
    "\n",
    "print(\"Result\")\n",
    "printMatrix(grid)\n",
    "countActive(grid)\n",
    "             \n",
    "        \n"
   ]
  },
  {
   "cell_type": "code",
   "execution_count": 277,
   "metadata": {},
   "outputs": [
    {
     "output_type": "stream",
     "name": "stdout",
     "text": [
      "1\n"
     ]
    }
   ],
   "source": [
    "try: \n",
    "    print([1,2,3][0])\n",
    "except: \n",
    "\n",
    "    print('exception')"
   ]
  },
  {
   "cell_type": "code",
   "execution_count": 296,
   "metadata": {},
   "outputs": [
    {
     "output_type": "execute_result",
     "data": {
      "text/plain": [
       "{(-1, -1, -1),\n",
       " (-1, -1, 0),\n",
       " (-1, -1, 1),\n",
       " (-1, 0, -1),\n",
       " (-1, 0, 0),\n",
       " (-1, 0, 1),\n",
       " (-1, 1, -1),\n",
       " (-1, 1, 0),\n",
       " (-1, 1, 1),\n",
       " (0, -1, -1),\n",
       " (0, -1, 0),\n",
       " (0, -1, 1),\n",
       " (0, 0, -1),\n",
       " (0, 0, 0),\n",
       " (0, 0, 1),\n",
       " (0, 1, -1),\n",
       " (0, 1, 0),\n",
       " (0, 1, 1),\n",
       " (1, -1, -1),\n",
       " (1, -1, 0),\n",
       " (1, -1, 1),\n",
       " (1, 0, -1),\n",
       " (1, 0, 0),\n",
       " (1, 0, 1),\n",
       " (1, 1, -1),\n",
       " (1, 1, 0),\n",
       " (1, 1, 1)}"
      ]
     },
     "metadata": {},
     "execution_count": 296
    }
   ],
   "source": [
    "set(product((0,1,-1), repeat=3))"
   ]
  },
  {
   "cell_type": "code",
   "execution_count": null,
   "metadata": {},
   "outputs": [],
   "source": []
  }
 ]
}
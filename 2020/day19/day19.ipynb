{
 "metadata": {
  "language_info": {
   "codemirror_mode": {
    "name": "ipython",
    "version": 3
   },
   "file_extension": ".py",
   "mimetype": "text/x-python",
   "name": "python",
   "nbconvert_exporter": "python",
   "pygments_lexer": "ipython3",
   "version": "3.9.0-final"
  },
  "orig_nbformat": 2,
  "kernelspec": {
   "name": "python3",
   "display_name": "Python 3",
   "language": "python"
  }
 },
 "nbformat": 4,
 "nbformat_minor": 2,
 "cells": [
  {
   "cell_type": "code",
   "execution_count": 51,
   "metadata": {},
   "outputs": [],
   "source": [
    "inFile = open(\"input\", 'r') \n",
    "lines = inFile.readlines()\n",
    "lines = [l.replace('\\n', '') for l in lines]\n",
    "inFile = open(\"sampleInput\", 'r')\n",
    "sampleLines = inFile.readlines() \n",
    "sampleLines = [l.replace('\\n', '') for l in sampleLines]\n",
    "\n",
    "\n",
    "def parseLines(lines): \n",
    "    rulesLines = lines[:lines.index(\"\")]\n",
    "    messages = set(lines[lines.index(\"\")+1:])\n",
    "    rules = {}\n",
    "    # all rule numbers are sequential\n",
    "    for r in rulesLines: \n",
    "        ruleNo, ruleSpecs = r.split(': ')\n",
    "        ruleSets = ruleSpecs.split(\" | \")\n",
    "        ruleNo = int(ruleNo)\n",
    "        rules[ruleNo] = []\n",
    "        for rs in ruleSets: \n",
    "            rules[ruleNo].append([(int(rNo) if rNo.isdigit() else rNo.replace('\"','')) for rNo in rs.split(' ')])\n",
    "    \n",
    "    return rules, messages\n",
    "\n",
    "sampleRules, sampleMessages = parseLines(sampleLines)\n",
    "rules, messages = parseLines(lines)\n",
    "\n",
    "        \n",
    "# generate all possible combinations as a set from the rules\n",
    "# match with set of input "
   ]
  },
  {
   "cell_type": "code",
   "execution_count": 64,
   "metadata": {},
   "outputs": [
    {
     "output_type": "stream",
     "name": "stdout",
     "text": [
      "0 [[4, 1, 5]]\n1 [[2, 3], [3, 2]]\n2 [[4, 4], [5, 5]]\n3 [[4, 5], [5, 4]]\n4 [['a']]\n5 [['b']]\n"
     ]
    }
   ],
   "source": [
    "for i in range(len(sampleRules)):\n",
    "    print(i, sampleRules[i])"
   ]
  },
  {
   "cell_type": "code",
   "execution_count": 183,
   "metadata": {},
   "outputs": [],
   "source": [
    "import itertools\n",
    "\n",
    "maxMsgLen = max([len(m) for m in messages])\n",
    "maxSampleMsgLen = max([len(m) for m in sampleMessages])\n",
    "\n",
    "maxLen = maxSampleMsgLen\n",
    "\n",
    "def generateStr(ruleNo, rules, repCount): \n",
    "    '''\n",
    "    Parses each rule set for this rule \n",
    "    Recursively generates message combos\n",
    "    Returns a list of combinations\n",
    "    repCount is not checked unless its 8 or 11\n",
    "    '''\n",
    "    # print('generating for rule', ruleNo)\n",
    "    repCount -= 1\n",
    "    if (ruleNo == 8 or ruleNo == 11) and repCount == 0: \n",
    "        return None\n",
    "\n",
    "    ruleSets = rules[ruleNo]\n",
    "    if ruleSets[0][0] == 'a':\n",
    "        return 'a'\n",
    "    elif ruleSets[0][0] == 'b':\n",
    "        return 'b'\n",
    "    else:\n",
    "        retList = []\n",
    "        remainingLen = 0\n",
    "        for rs in ruleSets:\n",
    "            ret = [] \n",
    "            for r in rs:\n",
    "                if (ruleNo == 8 or ruleNo == 11):\n",
    "                    if ruleSets.index(rs) == 0:\n",
    "                        remainingLen += len(genList)\n",
    "                    else:\n",
    "                        # calc the max length and then pass in the appropriate repCount \n",
    "                        repCount = int(maxLen/remainingLen)\n",
    "                        genList = generateStr(r, rules, repCount)\n",
    "                else: \n",
    "                    genList = generateStr(r,rules,1)\n",
    "                ret.append(genList)\n",
    "            # print(ret)\n",
    "            startingList = ret[0]\n",
    "            for subList in ret[1:]:\n",
    "                startingList = [''.join(l) for l in list(itertools.product(startingList, subList))]\n",
    "            # print(startingList)\n",
    "            retList.extend(startingList)\n",
    "            # print(retList)            \n",
    "    return retList\n"
   ]
  },
  {
   "cell_type": "code",
   "execution_count": 205,
   "metadata": {},
   "outputs": [
    {
     "output_type": "execute_result",
     "data": {
      "text/plain": [
       "5"
      ]
     },
     "metadata": {},
     "execution_count": 205
    }
   ],
   "source": [
    "int(5.7)"
   ]
  },
  {
   "cell_type": "code",
   "execution_count": 187,
   "metadata": {},
   "outputs": [
    {
     "output_type": "execute_result",
     "data": {
      "text/plain": [
       "111"
      ]
     },
     "metadata": {},
     "execution_count": 187
    }
   ],
   "source": [
    "retSet = set(generateStr(0, rules))\n",
    "len(retSet.intersection(messages))"
   ]
  },
  {
   "cell_type": "code",
   "execution_count": 198,
   "metadata": {},
   "outputs": [],
   "source": [
    "# update rules\n",
    "rules, messages = parseLines(lines)\n",
    "rules[8] = [[42], [42,8]]\n",
    "rules[11] = [[42,31],[42,11,31]] \n",
    "\n",
    "inFile = open(\"sampleInput2\", 'r')\n",
    "sampleLines2 = inFile.readlines()\n",
    "sampleLines2 = [l.replace('\\n', '') for l in sampleLines2]\n",
    "sampleRules, sampleMessages = parseLines(sampleLines2)\n",
    "sampleRules[8] = [[42], [42,8]]\n",
    "sampleRules[11] = [[42,31],[42,11,31]] \n"
   ]
  },
  {
   "cell_type": "code",
   "execution_count": null,
   "metadata": {},
   "outputs": [],
   "source": [
    "# any rules above 8 and 11 must be dynamic... \n",
    "# eg. 8\n",
    "\n",
    "# if there's repetition, generate combinations until longer than max of messages \n"
   ]
  }
 ]
}
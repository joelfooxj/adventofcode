{
 "metadata": {
  "language_info": {
   "codemirror_mode": {
    "name": "ipython",
    "version": 3
   },
   "file_extension": ".py",
   "mimetype": "text/x-python",
   "name": "python",
   "nbconvert_exporter": "python",
   "pygments_lexer": "ipython3",
   "version": "3.9.0-final"
  },
  "orig_nbformat": 2,
  "kernelspec": {
   "name": "python3",
   "display_name": "Python 3",
   "language": "python"
  }
 },
 "nbformat": 4,
 "nbformat_minor": 2,
 "cells": [
  {
   "cell_type": "code",
   "execution_count": 25,
   "metadata": {},
   "outputs": [],
   "source": [
    "inFile = open(\"input\", 'r') \n",
    "timings = inFile.readlines()\n",
    "timings = [t.replace('\\n', '') for t in timings]\n",
    "startTime = int(timings[0])\n",
    "\n",
    "sampleStart = 939\n",
    "sampleBusString = \"7,13,x,x,59,x,31,19\"\n",
    "\n",
    "def extractBus(busString): \n",
    "    busList = [int(b) if b != 'x' else -1 for b in busString.split(',')]\n",
    "    # busList.sort()\n",
    "    return busList\n",
    "\n",
    "sampleBuses = extractBus(sampleBusString)\n",
    "buses = extractBus(timings[1])"
   ]
  },
  {
   "cell_type": "code",
   "execution_count": 28,
   "metadata": {},
   "outputs": [
    {
     "output_type": "execute_result",
     "data": {
      "text/plain": [
       "[7, 13, -1, -1, 59, -1, 31, 19]"
      ]
     },
     "metadata": {},
     "execution_count": 28
    }
   ],
   "source": [
    "sampleBuses"
   ]
  },
  {
   "cell_type": "code",
   "execution_count": 12,
   "metadata": {},
   "outputs": [],
   "source": [
    "def earliestTime(buses): \n",
    "    # iterate on multiple of the highest number \n",
    "    maxBus = max(buses)\n",
    "    start = 1\n",
    "    while True:\n",
    "        start - 1\n",
    "        \n",
    "\n",
    "\n",
    "        start += 1\n",
    "                 "
   ]
  },
  {
   "cell_type": "code",
   "execution_count": 11,
   "metadata": {},
   "outputs": [
    {
     "output_type": "error",
     "ename": "TypeError",
     "evalue": "cannot unpack non-iterable int object",
     "traceback": [
      "\u001b[0;31m---------------------------------------------------------------------------\u001b[0m",
      "\u001b[0;31mTypeError\u001b[0m                                 Traceback (most recent call last)",
      "\u001b[0;32m<ipython-input-11-d972543bcef2>\u001b[0m in \u001b[0;36m<module>\u001b[0;34m\u001b[0m\n\u001b[0;32m----> 1\u001b[0;31m \u001b[0mearliest\u001b[0m\u001b[0;34m,\u001b[0m \u001b[0mbusID\u001b[0m \u001b[0;34m=\u001b[0m \u001b[0mearliestTime\u001b[0m\u001b[0;34m(\u001b[0m\u001b[0mstartTime\u001b[0m\u001b[0;34m,\u001b[0m \u001b[0mbuses\u001b[0m\u001b[0;34m)\u001b[0m\u001b[0;34m\u001b[0m\u001b[0;34m\u001b[0m\u001b[0m\n\u001b[0m\u001b[1;32m      2\u001b[0m \u001b[0mprint\u001b[0m\u001b[0;34m(\u001b[0m\u001b[0;34m(\u001b[0m\u001b[0mearliest\u001b[0m \u001b[0;34m-\u001b[0m \u001b[0mstartTime\u001b[0m\u001b[0;34m)\u001b[0m\u001b[0;34m*\u001b[0m\u001b[0mbusID\u001b[0m\u001b[0;34m)\u001b[0m\u001b[0;34m\u001b[0m\u001b[0;34m\u001b[0m\u001b[0m\n",
      "\u001b[0;31mTypeError\u001b[0m: cannot unpack non-iterable int object"
     ]
    }
   ],
   "source": [
    "earliest, busID = earliestTime(startTime, buses)\n",
    "print((earliest - startTime)*busID)"
   ]
  },
  {
   "cell_type": "code",
   "execution_count": 127,
   "metadata": {},
   "outputs": [
    {
     "output_type": "stream",
     "name": "stdout",
     "text": [
      "{'x': 1, 'y': 0}\n"
     ]
    }
   ],
   "source": [
    "wp = {'x':-1, 'y': 0}\n",
    "updateWaypoint(wp, {'direction':'R', 'val':180})\n",
    "print(wp)"
   ]
  },
  {
   "cell_type": "code",
   "execution_count": 128,
   "metadata": {},
   "outputs": [
    {
     "output_type": "stream",
     "name": "stdout",
     "text": [
      "{'x': 16956, 'y': 18336}\n35292\n"
     ]
    }
   ],
   "source": [
    "waypoint = {'x':10, 'y': 1} # try using degrees -> east is 0 degrees \n",
    "boat = {'x':0, 'y':0}\n",
    "\n",
    "actionNodes = convertToDict(actions)\n",
    "\n",
    "for action in actionNodes: \n",
    "    updateBoat(boat, waypoint, action)\n",
    "    # print(boat)\n",
    "\n",
    "print(boat)\n",
    "print(abs(boat['x']) + abs(boat['y']))"
   ]
  },
  {
   "cell_type": "code",
   "execution_count": null,
   "metadata": {},
   "outputs": [],
   "source": []
  }
 ]
}
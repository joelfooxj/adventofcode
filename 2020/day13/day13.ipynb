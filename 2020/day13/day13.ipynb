{
 "metadata": {
  "language_info": {
   "codemirror_mode": {
    "name": "ipython",
    "version": 3
   },
   "file_extension": ".py",
   "mimetype": "text/x-python",
   "name": "python",
   "nbconvert_exporter": "python",
   "pygments_lexer": "ipython3",
   "version": "3.9.0-final"
  },
  "orig_nbformat": 2,
  "kernelspec": {
   "name": "python3",
   "display_name": "Python 3",
   "language": "python"
  }
 },
 "nbformat": 4,
 "nbformat_minor": 2,
 "cells": [
  {
   "cell_type": "code",
   "execution_count": null,
   "metadata": {},
   "outputs": [],
   "source": [
    "inFile = open(\"input\", 'r') \n",
    "timings = inFile.readlines()\n",
    "timings = [t.replace('\\n', '') for t in timings]\n",
    "startTime = int(timings[0])\n",
    "\n",
    "sampleStart = 939\n",
    "sampleBusString = \"7,13,x,x,59,x,31,19\"\n",
    "\n",
    "def extractBus(busString): \n",
    "    busList = [int(b) if b != 'x' else -1 for b in busString.split(',')]\n",
    "    # busList.sort()\n",
    "    return busList\n",
    "\n",
    "sampleBuses = extractBus(sampleBusString)\n",
    "buses = extractBus(timings[1])"
   ]
  },
  {
   "cell_type": "code",
   "execution_count": null,
   "metadata": {},
   "outputs": [],
   "source": [
    "buses"
   ]
  },
  {
   "cell_type": "code",
   "execution_count": null,
   "metadata": {},
   "outputs": [],
   "source": [
    "from IPython.display import clear_output\n",
    "\n",
    "def earliestTime(buses): \n",
    "    # iterate on multiple of the highest number \n",
    "    maxBus = max(buses)\n",
    "    maxIndex = buses.index(maxBus) \n",
    "    validList = [buses.index(b) for b in buses if not (b == -1 or b == maxBus)]\n",
    "    # print(validList)\n",
    "    # checkTime = 100000000000352\n",
    "    start = 1\n",
    "    found = False\n",
    "    while not found:\n",
    "        found = True\n",
    "        checkTime = start*maxBus\n",
    "        # determine the start range and then calc from there\n",
    "        startTime = checkTime - maxIndex\n",
    "        # print(startTime)\n",
    "        for i in validList:\n",
    "            if (startTime + i) % buses[i] != 0: \n",
    "                found = False \n",
    "                break\n",
    "        start += 1\n",
    "    return startTime\n",
    "                 "
   ]
  },
  {
   "cell_type": "code",
   "execution_count": null,
   "metadata": {},
   "outputs": [],
   "source": [
    "samples = [\n",
    "    (\"17,x,13,19\", 3417),\n",
    "    (\"67,7,59,61\", 754018),\n",
    "    (\"67,x,7,59,61\", 779210), \n",
    "    (\"67,7,x,59,61\", 1261476),\n",
    "    (\"1789,37,47,1889\", 1202161486)]\n"
   ]
  },
  {
   "cell_type": "code",
   "execution_count": null,
   "metadata": {},
   "outputs": [],
   "source": [
    "import time \n",
    "\n",
    "start = time.perf_counter()\n",
    "ret = earliestTime(sampleBuses)\n",
    "end = time.perf_counter()\n",
    "print(ret, end-start)"
   ]
  },
  {
   "cell_type": "code",
   "execution_count": null,
   "metadata": {},
   "outputs": [],
   "source": [
    "for s in samples:\n",
    "    sList = extractBus(s[0])\n",
    "    start = time.perf_counter() \n",
    "    ET = earliestTime(sList)\n",
    "    end = time.perf_counter()\n",
    "    print(ET, end-start)"
   ]
  },
  {
   "cell_type": "code",
   "execution_count": null,
   "metadata": {
    "tags": []
   },
   "outputs": [],
   "source": [
    "earliestTime(buses)"
   ]
  },
  {
   "cell_type": "code",
   "execution_count": null,
   "metadata": {},
   "outputs": [],
   "source": []
  }
 ]
}
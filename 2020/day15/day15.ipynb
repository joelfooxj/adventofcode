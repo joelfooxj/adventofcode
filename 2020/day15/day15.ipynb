{
 "metadata": {
  "language_info": {
   "codemirror_mode": {
    "name": "ipython",
    "version": 3
   },
   "file_extension": ".py",
   "mimetype": "text/x-python",
   "name": "python",
   "nbconvert_exporter": "python",
   "pygments_lexer": "ipython3",
   "version": "3.9.0-final"
  },
  "orig_nbformat": 2,
  "kernelspec": {
   "name": "python3",
   "display_name": "Python 3",
   "language": "python"
  }
 },
 "nbformat": 4,
 "nbformat_minor": 2,
 "cells": [
  {
   "cell_type": "code",
   "execution_count": 69,
   "metadata": {},
   "outputs": [],
   "source": [
    "# inFile = open(\"input\", 'r') \n",
    "# lines = inFile.readlines()\n",
    "# lines = [l.replace('\\n', '') for l in lines]\n",
    "nums = [16, 12, 1, 0, 15, 7, 11]\n",
    "sampleNums = [ \n",
    "    [[0,3,6],175594],\n",
    "    [[1,3,2],2578], \n",
    "    [[2,1,3],3544142],\n",
    "    [[1,2,3],261214], \n",
    "    [[2,3,1],6895259], \n",
    "    [[3,2,1],18], \n",
    "    [[3,1,2],362] \n",
    "]\n",
    "\n",
    "# spokenSet = set()\n",
    "# spokenList = []\n",
    "# spokenDict = {}"
   ]
  },
  {
   "cell_type": "code",
   "execution_count": 73,
   "metadata": {},
   "outputs": [],
   "source": [
    "def spoken2020(nums, limit): \n",
    "    turn = len(nums)\n",
    "    spokenList = nums\n",
    "    spokenDict = {}\n",
    "    for i in range(len(nums)): \n",
    "        spokenDict[nums[i]] = [i+1] \n",
    "        \n",
    "    # if dict[num] list is only 1 element then speak 0\n",
    "    while turn < limit: \n",
    "        \n",
    "        turn += 1\n",
    "        lastNum = spokenList[-1]\n",
    "        spoken = 0\n",
    "        if len(spokenDict[lastNum]) > 1:\n",
    "            spoken = abs(spokenDict[lastNum][-1] - spokenDict[lastNum][-2])\n",
    "        spokenList.append(spoken)\n",
    "        if spoken not in spokenDict: \n",
    "            spokenDict[spoken] = [turn]\n",
    "        else: \n",
    "            spokenDict[spoken].append(turn)\n",
    "        # print(\"Turn: {0} - lastNum:{1}, spoken:{2}\".format(turn, lastNum, spoken))\n",
    "    \n",
    "    return spokenList[-1]"
   ]
  },
  {
   "cell_type": "code",
   "execution_count": 74,
   "metadata": {
    "tags": []
   },
   "outputs": [
    {
     "output_type": "execute_result",
     "data": {
      "text/plain": [
       "6823"
      ]
     },
     "metadata": {},
     "execution_count": 74
    }
   ],
   "source": [
    "spoken2020(nums, 30000000)"
   ]
  },
  {
   "cell_type": "code",
   "execution_count": 67,
   "metadata": {
    "tags": []
   },
   "outputs": [
    {
     "output_type": "stream",
     "name": "stdout",
     "text": [
      "[1, 3, 2]\n1\n[2, 1, 3]\n10\n[1, 2, 3]\n27\n[2, 3, 1]\n78\n[3, 2, 1]\n438\n[3, 1, 2]\n1836\n[0, 3, 6]\n436\n"
     ]
    }
   ],
   "source": [
    "\n",
    "for s in sampleNums: \n",
    "    print(s[0])\n",
    "    ret = spoken2020(s[0], 2020)\n",
    "    \n",
    "\n"
   ]
  },
  {
   "cell_type": "code",
   "execution_count": 68,
   "metadata": {},
   "outputs": [
    {
     "output_type": "execute_result",
     "data": {
      "text/plain": [
       "403"
      ]
     },
     "metadata": {},
     "execution_count": 68
    }
   ],
   "source": [
    "spoken2020(nums, 2020)"
   ]
  },
  {
   "cell_type": "code",
   "execution_count": null,
   "metadata": {},
   "outputs": [],
   "source": []
  }
 ]
}
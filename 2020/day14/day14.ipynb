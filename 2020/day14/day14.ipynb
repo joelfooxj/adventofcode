{
 "metadata": {
  "language_info": {
   "codemirror_mode": {
    "name": "ipython",
    "version": 3
   },
   "file_extension": ".py",
   "mimetype": "text/x-python",
   "name": "python",
   "nbconvert_exporter": "python",
   "pygments_lexer": "ipython3",
   "version": "3.9.0-final"
  },
  "orig_nbformat": 2,
  "kernelspec": {
   "name": "python3",
   "display_name": "Python 3",
   "language": "python"
  }
 },
 "nbformat": 4,
 "nbformat_minor": 2,
 "cells": [
  {
   "cell_type": "code",
   "execution_count": 3,
   "metadata": {},
   "outputs": [
    {
     "output_type": "execute_result",
     "data": {
      "text/plain": [
       "'8'"
      ]
     },
     "metadata": {},
     "execution_count": 3
    }
   ],
   "source": [
    "\n",
    "('mem[8] = 11'.split(' ')[0]).replace('[', '').replace(']', '').replace('mem', '')"
   ]
  },
  {
   "cell_type": "code",
   "execution_count": 36,
   "metadata": {},
   "outputs": [
    {
     "output_type": "stream",
     "name": "stdout",
     "text": [
      "[{'mask': {'maskDecOR': 18, 'maskDecAND': 51, 'maskStr': '000000000000000000000000000000X1001X'}, 'memList': [{'loc': 42, 'val': 100}]}, {'mask': {'maskDecOR': 0, 'maskDecAND': 11, 'maskStr': '00000000000000000000000000000000X0XX'}, 'memList': [{'loc': 26, 'val': 1}]}]\n"
     ]
    }
   ],
   "source": [
    "inFile = open(\"input\", 'r') \n",
    "lines = inFile.readlines()\n",
    "lines = [l.replace('\\n', '') for l in lines]\n",
    "\n",
    "# sampleLines = [\n",
    "#     \"mask = XXXXXXXXXXXXXXXXXXXXXXXXXXXXX1XXXX0X\",\n",
    "#     \"mem[8] = 11\", \n",
    "#     \"mem[7] = 101\", \n",
    "#     \"mem[8] = 0\"\n",
    "# ]\n",
    "\n",
    "sampleLines = [\n",
    "    \"mask = 000000000000000000000000000000X1001X\",\n",
    "    \"mem[42] = 100\",\n",
    "    \"mask = 00000000000000000000000000000000X0XX\",\n",
    "    \"mem[26] = 1\"\n",
    "]\n",
    "\n",
    "# def constructMaskGroups(lines): \n",
    "#     nodes = {}\n",
    "#     memList = []\n",
    "#     for line in lines: \n",
    "#         if 'mask' in line: \n",
    "#             maskString = ((line.split(' '))[2])\n",
    "#             maskNode = {}\n",
    "#             for i in range(len(maskString)): \n",
    "#                 if maskString[i] != 'X': \n",
    "#                     maskNode[i] = maskString[i]\n",
    "#             nodes['mask'] = maskNode \n",
    "#         else: \n",
    "#             memLoc = (line.split(' ')[0]).remove('')\n",
    "\n",
    "\n",
    "# | followed by & the bits \n",
    "def constructMaskGroups(lines): \n",
    "    nodeList = []\n",
    "    # currNode = 0\n",
    "    for line in lines: \n",
    "        if \"mask\" in line: \n",
    "            nodeList.append({})\n",
    "            maskNode = {}\n",
    "            maskNode['maskDecOR'] = int(((line.split(' '))[2]).replace('X', '0'), 2)\n",
    "            maskNode['maskDecAND'] = int(((line.split(' '))[2]).replace('X', '1'), 2)\n",
    "            maskNode['maskStr'] = (line.split(' '))[2]\n",
    "            nodeList[len(nodeList) - 1]['mask'] = maskNode\n",
    "            nodeList[len(nodeList) - 1]['memList'] = []\n",
    "        else:\n",
    "            memNode = {}\n",
    "            memNode['loc'] = int((line.split(' ')[0]).replace('[', '').replace(']', '').replace('mem', ''))\n",
    "            memNode['val'] = int(line.split(' ')[2])\n",
    "            nodeList[len(nodeList) - 1]['memList'].append(memNode)\n",
    "    return nodeList \n",
    "\n",
    "nodeList = constructMaskGroups(lines)\n",
    "sampleNodes = constructMaskGroups(sampleLines)\n",
    "print(sampleNodes)"
   ]
  },
  {
   "cell_type": "code",
   "execution_count": 48,
   "metadata": {},
   "outputs": [],
   "source": [
    "from itertools import product\n",
    "\n",
    "def generateLocs(mask, address): \n",
    "    locs = []\n",
    "    newAddress = [] \n",
    "    Xindices = []\n",
    "    addressStr = list(bin(address))[2:]\n",
    "    address = (['0']*(len(mask)-len(addressStr)))+[a for a in addressStr]\n",
    "    # print(address)\n",
    "    for i in range(len(mask)): \n",
    "        m = mask[i]\n",
    "        a = address[i]\n",
    "        if m == '0':\n",
    "            newAddress.append(a)\n",
    "        if m == '1': \n",
    "            newAddress.append(m)\n",
    "        if m == 'X': \n",
    "            newAddress.append('X')\n",
    "            Xindices.append(i)\n",
    "    # print(newAddress)\n",
    "    permutations = list(product('01', repeat=len(Xindices)))\n",
    "    for p in permutations: \n",
    "        newLoc = newAddress.copy()\n",
    "        for i in range(len(p)):\n",
    "            newLoc[Xindices[i]] = p[i]\n",
    "        locs.append(int('0b' + ''.join(newLoc) ,2))\n",
    "    # print(locs)\n",
    "    return locs \n",
    "\n",
    "def modAddresses(nodeList):\n",
    "    addresses = {}\n",
    "    for node in nodeList: \n",
    "        for mem in node['memList']:\n",
    "            loc = mem['loc']\n",
    "            # storedVal = (mem['val'] | node['mask']['maskDecOR']) & node['mask']['maskDecAND']\n",
    "            locs = generateLocs(node['mask']['maskStr'], mem['loc'])\n",
    "            for l in locs: \n",
    "                addresses[l] = mem['val']\n",
    "    return addresses\n",
    "\n",
    "def getSum(addresses): \n",
    "    total = 0\n",
    "    for address in addresses: \n",
    "        total += addresses[address]\n",
    "    return total\n",
    "    "
   ]
  },
  {
   "cell_type": "code",
   "execution_count": 49,
   "metadata": {
    "tags": []
   },
   "outputs": [
    {
     "output_type": "execute_result",
     "data": {
      "text/plain": [
       "4288986482164"
      ]
     },
     "metadata": {},
     "execution_count": 49
    }
   ],
   "source": [
    "mods = modAddresses(nodeList)\n",
    "\n",
    "getSum(mods)"
   ]
  },
  {
   "cell_type": "code",
   "execution_count": null,
   "metadata": {},
   "outputs": [],
   "source": []
  }
 ]
}
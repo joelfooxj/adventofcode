{
 "metadata": {
  "language_info": {
   "codemirror_mode": {
    "name": "ipython",
    "version": 3
   },
   "file_extension": ".py",
   "mimetype": "text/x-python",
   "name": "python",
   "nbconvert_exporter": "python",
   "pygments_lexer": "ipython3",
   "version": "3.9.0-final"
  },
  "orig_nbformat": 2,
  "kernelspec": {
   "name": "python3",
   "display_name": "Python 3",
   "language": "python"
  }
 },
 "nbformat": 4,
 "nbformat_minor": 2,
 "cells": [
  {
   "cell_type": "code",
   "execution_count": null,
   "metadata": {},
   "outputs": [],
   "source": [
    "# start with arbitrary unit \n",
    "# for each of its sides, iterate through all tiles + flips/rotations to match. \n",
    "# if match, add to set of matched tiles for this tile \n",
    "# once all tiles have been checked and matched, see if corner sides are missing \n",
    "\n",
    "7546/300\n"
   ]
  },
  {
   "cell_type": "code",
   "execution_count": 34,
   "metadata": {
    "tags": []
   },
   "outputs": [],
   "source": [
    "inFile = open(\"input\", 'r') \n",
    "lines = inFile.readlines()\n",
    "lines = [l.replace('\\n', '') for l in lines if l != '\\n']\n",
    "inFile = open(\"input2\", 'r') \n",
    "sampleLines = inFile.readlines()\n",
    "sampleLines = [l.replace('\\n', '') for l in sampleLines if l != '\\n']\n",
    "\n",
    "def generateChunks(lines): \n",
    "    chunks = {}\n",
    "    for l in lines: \n",
    "        if \"Tile\" in l: \n",
    "            null, tileNo = l.split(' ')\n",
    "            tileNo = int(tileNo.replace(':', ''))\n",
    "            chunks[tileNo] = []\n",
    "        else: \n",
    "            chunks[tileNo].append(l)\n",
    "    return chunks \n",
    "\n",
    "def generateTiles(chunks): \n",
    "    tiles = {} \n",
    "    for tileNo in chunks:\n",
    "        c = chunks[tileNo]\n",
    "        tiles[tileNo] = { \n",
    "            'top': list(c[0]), \n",
    "            'bottom': list(c[-1]), \n",
    "            'left': [r[0] for r in c], \n",
    "            'right': [r[-1] for r in c]\n",
    "        }\n",
    "    return tiles\n",
    "\n",
    "tiles = generateTiles(generateChunks(lines))\n",
    "sampleTiles = generateTiles(generateChunks(sampleLines))"
   ]
  },
  {
   "cell_type": "code",
   "execution_count": 35,
   "metadata": {},
   "outputs": [
    {
     "output_type": "stream",
     "name": "stdout",
     "text": [
      "..##.#..#.\n##..#.....\n#...##..#.\n####.#...#\n##.##.###.\n##...#.###\n.#.#.#..##\n..#....#..\n###...#.#.\n..###..###\n"
     ]
    },
    {
     "output_type": "execute_result",
     "data": {
      "text/plain": [
       "{'top': ['.', '.', '#', '#', '.', '#', '.', '.', '#', '.'],\n",
       " 'bottom': ['.', '.', '#', '#', '#', '.', '.', '#', '#', '#'],\n",
       " 'left': ['.', '#', '#', '#', '#', '#', '.', '.', '#', '.'],\n",
       " 'right': ['.', '.', '.', '#', '.', '#', '#', '.', '.', '#']}"
      ]
     },
     "metadata": {},
     "execution_count": 35
    }
   ],
   "source": [
    "for s in sampleChunks[2311]: \n",
    "    print(s)\n",
    "\n",
    "sampleTiles[2311]"
   ]
  },
  {
   "cell_type": "code",
   "execution_count": 107,
   "metadata": {},
   "outputs": [],
   "source": [
    "# tile operations\n",
    "from copy import deepcopy \n",
    "\n",
    "def rotateTile(tile): \n",
    "    '''\n",
    "    tile is a dict of sides\n",
    "    rotation is 90 degrees clockwise \n",
    "    VERIFIED WORKING\n",
    "    '''\n",
    "    tempTile = deepcopy(tile)\n",
    "    tempTile['right'] = tile['top']\n",
    "    tempTile['bottom'] = list(reversed(tile['right']))\n",
    "    tempTile['left'] = tile['bottom']\n",
    "    tempTile['top'] = list(reversed(tile['left']))\n",
    "    return tempTile\n",
    "    \n",
    "def flipTile(tile, axis): \n",
    "    '''\n",
    "    tile is dict of sides \n",
    "    axis = 'vertical' or 'horizontal' \n",
    "    'vertical' means left/right switch + reverse top/bottom \n",
    "    'horizontal' means top/bottom switch + reverse right/left\n",
    "    VERIFIED WORKING\n",
    "    ''' \n",
    "    tempTile = deepcopy(tile) \n",
    "    if axis == 'vertical': \n",
    "        tempTile['left'] = tile['right']\n",
    "        tempTile['right'] = tile['left']\n",
    "        tempTile['top'] = list(reversed(tile['top']))\n",
    "        tempTile['bottom'] = list(reversed(tile['bottom']))\n",
    "    if axis == 'horizontal': \n",
    "        tempTile['top'] = tile['bottom']\n",
    "        tempTile['bottom'] = tile['top']\n",
    "        tempTile['left'] = list(reversed(tile['left']))\n",
    "        tempTile['right'] = list(reversed(tile['right']))\n",
    "    return tempTile\n",
    "\n",
    "def matchSides(side, sideList, tiles): \n",
    "    '''\n",
    "    Given a side, traverse all tiles to find matching sides    \n",
    "    '''\n",
    "    sideMappings = {\n",
    "        'top':'bottom',\n",
    "        'bottom':'top',\n",
    "        'left':'right',\n",
    "        'right':'left',\n",
    "    }\n",
    "\n",
    "    flipMapping = { \n",
    "        'top':'vertical', \n",
    "        'bottom':'vertical', \n",
    "        'left':'horizontal', \n",
    "        'right':'horizontal', \n",
    "    }\n",
    "\n",
    "    for t in tiles: \n",
    "        tempTile = deepcopy(tiles[t])\n",
    "\n",
    "        for i in range(4): \n",
    "            otherSide = tempTile[sideMappings[side]]\n",
    "            if sideList == otherSide:\n",
    "                tiles[t] = tempTile\n",
    "                return True \n",
    "            tempTile = rotateTile(tempTile)    \n",
    "            otherSide = tempTile[sideMappings[side]]\n",
    "            if sideList == otherSide:\n",
    "                tiles[t] = tempTile\n",
    "                return True\n",
    "\n",
    "        for i in range(4):\n",
    "            otherSide = tempTile[sideMappings[side]]\n",
    "            if sideList == otherSide:\n",
    "                tiles[t] = tempTile\n",
    "                return True \n",
    "            tempTile = flipTile(tempTile, flipMapping[side])\n",
    "            otherSide = tempTile[sideMappings[side]]\n",
    "            if sideList == otherSide:\n",
    "                tiles[t] = tempTile\n",
    "                return True \n",
    "            tempTile = flipTile(tempTile, flipMapping[side])\n",
    "            tempTile = rotateTile(tempTile)    \n",
    "    return False\n",
    "            \n"
   ]
  },
  {
   "cell_type": "code",
   "execution_count": 108,
   "metadata": {},
   "outputs": [],
   "source": [
    "# start with arbitrary unit \n",
    "# for each side, check all tiles + all possible flip/rotate combinations for matching side \n",
    "# if matching side found, update tiles \n",
    "# ... maybe just fine corner tiles for now -> check for empty corners once all sides checked"
   ]
  },
  {
   "cell_type": "code",
   "execution_count": 109,
   "metadata": {},
   "outputs": [],
   "source": [
    "allTiles = sampleTiles\n",
    "\n",
    "corners = [\n",
    "    set(['top', 'left']),\n",
    "    set(['top', 'right']),\n",
    "    set(['bottom', 'left']),\n",
    "    set(['bottom', 'right'])\n",
    "]\n",
    "\n",
    "cornerTiles = set()\n",
    "\n",
    "for t in allTiles: \n",
    "    tile = allTiles[t]\n",
    "    matchedSides = set()\n",
    "    for s in tile:\n",
    "        side = tile[s]\n",
    "        if matchSides(s, side, allTiles): \n",
    "            matchedSides.add(s)\n",
    "    # print(t, ':', matchedSides)\n",
    "    if len(matchedSides) == 2: \n",
    "        print(t, 'is a corner with', matchedSides)\n"
   ]
  },
  {
   "cell_type": "code",
   "execution_count": 40,
   "metadata": {},
   "outputs": [
    {
     "output_type": "execute_result",
     "data": {
      "text/plain": [
       "144"
      ]
     },
     "metadata": {},
     "execution_count": 40
    }
   ],
   "source": [
    "len(tiles)"
   ]
  },
  {
   "cell_type": "code",
   "execution_count": null,
   "metadata": {},
   "outputs": [],
   "source": []
  }
 ]
}
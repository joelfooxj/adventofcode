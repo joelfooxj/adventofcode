{
 "metadata": {
  "language_info": {
   "codemirror_mode": {
    "name": "ipython",
    "version": 3
   },
   "file_extension": ".py",
   "mimetype": "text/x-python",
   "name": "python",
   "nbconvert_exporter": "python",
   "pygments_lexer": "ipython3",
   "version": "3.9.0-final"
  },
  "orig_nbformat": 2,
  "kernelspec": {
   "name": "python3",
   "display_name": "Python 3",
   "language": "python"
  }
 },
 "nbformat": 4,
 "nbformat_minor": 2,
 "cells": [
  {
   "cell_type": "code",
   "execution_count": 180,
   "metadata": {},
   "outputs": [],
   "source": [
    "inFile = open(\"input\", 'r') \n",
    "lines = inFile.readlines()\n",
    "lines = [l.replace('\\n', '').replace(' ', '') for l in lines]\n",
    "\n",
    "sampleLines = [ \n",
    "    \"2*3+(4*5)\", \n",
    "    \"5+(8*3+9+3*4*3)\",\n",
    "    \"5*9*(7*3*3+9*3+(8+6*4))\",\n",
    "    \"((2+4*9)*(6+9*8+6)+6)+2+4*2\"\n",
    "]\n",
    "\n",
    "def eval(operand1, operand2, operation): \n",
    "    if operation == '+': \n",
    "        return operand1 + operand2\n",
    "    elif operation == '*': \n",
    "        return operand1 * operand2\n",
    "    else: \n",
    "        print(operand1, operation, operand2, \" - invalid operation evaluation\")"
   ]
  },
  {
   "cell_type": "code",
   "execution_count": 196,
   "metadata": {},
   "outputs": [],
   "source": [
    "def tokenize(line): \n",
    "    '''\n",
    "    Tokenizes the line into operands, operations and expressions\n",
    "    '''\n",
    "    lineList = list(line)\n",
    "    tokens = []\n",
    "    newNum = []\n",
    "    newParan = []\n",
    "    paranNode = {\n",
    "        \"leftCurl\":0,\n",
    "        \"rightCurl\":0, \n",
    "        \"string\":[]\n",
    "    }\n",
    "    paranFlag = False\n",
    "    digitFlag = False\n",
    "    while lineList:\n",
    "        c = lineList.pop(0)\n",
    "        if digitFlag and not paranFlag: \n",
    "            if c.isdigit():\n",
    "                newNum.append(c)\n",
    "            else: \n",
    "                digitFlag = False \n",
    "                tokens.append(''.join(newNum))\n",
    "                newNum = []\n",
    "        if paranFlag: \n",
    "            if c == '(': \n",
    "                paranNode['leftCurl'] += 1\n",
    "                paranNode['string'].append(c)\n",
    "            elif c == ')': \n",
    "                # check if end\n",
    "                paranNode['rightCurl'] += 1\n",
    "                if paranNode['leftCurl'] == paranNode['rightCurl']: \n",
    "                    # print(\"end paran\")\n",
    "                    paranFlag = False\n",
    "                    tokens.append(tokenize(paranNode['string']))                    \n",
    "                    paranNode['string'] = []\n",
    "                    paranNode['leftCurl'] = 0\n",
    "                    paranNode['rightCurl'] = 0\n",
    "                else: \n",
    "                    paranNode['string'].append(c)\n",
    "            else: \n",
    "                paranNode['string'].append(c)\n",
    "        elif c == '(':\n",
    "            paranFlag = True\n",
    "            paranNode['leftCurl'] += 1\n",
    "        elif c.isdigit():\n",
    "            if not digitFlag:\n",
    "                digitFlag = True\n",
    "                newNum.append(c)\n",
    "            if not lineList:\n",
    "                tokens.append(''.join(newNum))\n",
    "        else: \n",
    "            tokens.append(c)\n",
    "    return tokens"
   ]
  },
  {
   "cell_type": "code",
   "execution_count": 298,
   "metadata": {},
   "outputs": [],
   "source": [
    "def evalExpression(tokens): \n",
    "    listIndices = [tokens.index(c) for c in tokens if isinstance(c, list)]\n",
    "    for i in listIndices:         \n",
    "        expression = tokens[i]\n",
    "        evaluated = evalExpression(expression)\n",
    "        tokens[i] = evaluated\n",
    "\n",
    "\n",
    "    for op in ['+', '*']: \n",
    "        while tokens.count(op) != 0: \n",
    "            i = tokens.index(op)\n",
    "            operand1 = tokens[i-1]\n",
    "            operand2 = tokens[i+1]\n",
    "            if operand1.isdigit() and operand2.isdigit(): \n",
    "                evaluated = eval(int(operand1), int(operand2), op)\n",
    "                tokens[i] = str(evaluated)\n",
    "                del tokens[i-1]\n",
    "                del tokens[i]\n",
    "                opIndices = [tokens.index(c) for c in tokens if c == op]\n",
    "    \n",
    "    return tokens[0]\n",
    "                \n",
    "        "
   ]
  },
  {
   "cell_type": "code",
   "execution_count": 299,
   "metadata": {},
   "outputs": [
    {
     "output_type": "stream",
     "name": "stdout",
     "text": [
      "['5', '*', '9', '*', ['7', '*', '3', '*', '3', '+', '9', '*', '3', '+', ['8', '+', '6', '*', '4']]]\n"
     ]
    },
    {
     "output_type": "execute_result",
     "data": {
      "text/plain": [
       "'669060'"
      ]
     },
     "metadata": {},
     "execution_count": 299
    }
   ],
   "source": [
    "tokens = tokenize(\"5 * 9 * (7 * 3 * 3 + 9 * 3 + (8 + 6 * 4))\".replace(' ', ''))\n",
    "\n",
    "# tokens = tokenize(\"(1+2)*(3)\")\n",
    "print(tokens)\n",
    "evalExpression(tokens)"
   ]
  },
  {
   "cell_type": "code",
   "execution_count": 301,
   "metadata": {},
   "outputs": [
    {
     "output_type": "stream",
     "name": "stdout",
     "text": [
      "46\n1445\n669060\n23340\n"
     ]
    }
   ],
   "source": [
    "for s in sampleLines:\n",
    "    tokens = tokenize(s)\n",
    "    print(evalExpression(tokens))"
   ]
  },
  {
   "cell_type": "code",
   "execution_count": 303,
   "metadata": {},
   "outputs": [
    {
     "output_type": "stream",
     "name": "stdout",
     "text": [
      "218621700997826\n"
     ]
    }
   ],
   "source": [
    "total = 0\n",
    "for s in lines: \n",
    "    tokens = tokenize(s)\n",
    "    total += int(evalExpression(tokens))\n",
    "print(total)"
   ]
  },
  {
   "cell_type": "code",
   "execution_count": null,
   "metadata": {},
   "outputs": [],
   "source": []
  },
  {
   "cell_type": "code",
   "execution_count": null,
   "metadata": {},
   "outputs": [],
   "source": []
  }
 ]
}
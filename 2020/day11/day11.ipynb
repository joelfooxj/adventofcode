{
 "metadata": {
  "language_info": {
   "codemirror_mode": {
    "name": "ipython",
    "version": 3
   },
   "file_extension": ".py",
   "mimetype": "text/x-python",
   "name": "python",
   "nbconvert_exporter": "python",
   "pygments_lexer": "ipython3",
   "version": "3.9.0-final"
  },
  "orig_nbformat": 2,
  "kernelspec": {
   "name": "python3",
   "display_name": "Python 3",
   "language": "python"
  }
 },
 "nbformat": 4,
 "nbformat_minor": 2,
 "cells": [
  {
   "cell_type": "code",
   "execution_count": 66,
   "metadata": {},
   "outputs": [
    {
     "output_type": "stream",
     "name": "stdout",
     "text": [
      "L.LL.LL.LL\nLLLLLLL.LL\nL.L.L..L..\nLLLL.LL.LL\nL.LL.LL.LL\nL.LLLLL.LL\n..L.L.....\nLLLLLLLLLL\nL.LLLLLL.L\nL.LLLLL.LL\n"
     ]
    }
   ],
   "source": [
    "inFile = open(\"input\", 'r') \n",
    "seats = inFile.readlines()\n",
    "seats = [s.replace('\\n', '') for s in seats]\n",
    "\n",
    "sampleInput = [ \n",
    "    \"L.LL.LL.LL\",\n",
    "    \"LLLLLLL.LL\",\n",
    "    \"L.L.L..L..\",\n",
    "    \"LLLL.LL.LL\",\n",
    "    \"L.LL.LL.LL\",\n",
    "    \"L.LLLLL.LL\",\n",
    "    \"..L.L.....\",\n",
    "    \"LLLLLLLLLL\",\n",
    "    \"L.LLLLLL.L\",\n",
    "    \"L.LLLLL.LL\"\n",
    "]\n",
    "\n",
    "def convertToMatrix(seatPlan): \n",
    "    retPlan = [] \n",
    "    for row in seatPlan: \n",
    "        retPlan.append(list(row))\n",
    "    return retPlan\n",
    "\n",
    "def printMatrix(seatMatrix): \n",
    "    for row in seatMatrix: \n",
    "        print(''.join(row))\n",
    "\n",
    "sampleMatrix = convertToMatrix(sampleInput)\n",
    "seatMatrix = convertToMatrix(seats)\n",
    "\n",
    "printMatrix(sampleMatrix)"
   ]
  },
  {
   "cell_type": "code",
   "execution_count": 128,
   "metadata": {},
   "outputs": [],
   "source": [
    "from copy import deepcopy\n",
    "\n",
    "def checkDirections(seatMatrix, i, j): \n",
    "    # upperLeftDiag = [(i - d, j - d) for d in range(1, i+1) if i-d >= 0 and j-d >= 0]\n",
    "    # upper = [(i - d, j) for d in range(1, i+1) if i-d >= 0] \n",
    "    # upperRightDiag = [(i - d, j + d) for d in range(1, i+1) if i-d >= 0 and j+d < len(seatMatrix[0])]\n",
    "    # right = [(i, j + d) for d in range(1, len(seatMatrix[0]) - j) if j+d < len(seatMatrix[0])]\n",
    "    # lowerRightDiag = [(i + d, j + d) for d in range(i, len(seatMatrix) - i) if i+d < len(seatMatrix) and j+d < len(seatMatrix[0])]\n",
    "    # lower = [(i + d, j) for d in range(i, len(seatMatrix) - i) if i+d < len(seatMatrix)]\n",
    "    # lowerLeftDiag = [(i + d, j - d) for d in range(i, len(seatMatrix) - i) if i+d < len(seatMatrix)]\n",
    "    # left = [(i, j - d) for d in range(1, j+1) if j-d >= 0]\n",
    "\n",
    "    # combine the position and directions \n",
    "    \n",
    "    directions = {\n",
    "        'upperLeftDiag': (-1, -1), \n",
    "        'upper': (-1,0), \n",
    "        'upperRightDiag': (-1,1), \n",
    "        'right': (0,1), \n",
    "        'lowerRightDiag': (1,1), \n",
    "        'lower': (1,0), \n",
    "        'lowerLeftDiag': (1,-1), \n",
    "        'left': (0,-1)\n",
    "    }\n",
    "\n",
    "    totalOccupied = 0\n",
    "\n",
    "    for direction in directions: \n",
    "        m = i\n",
    "        n = j\n",
    "        pos = directions[direction]\n",
    "        m = i + pos[0]\n",
    "        n = j + pos[1]\n",
    "        while 0 <= m < len(seatMatrix) and 0 <= n < len(seatMatrix[0]):\n",
    "            seatAlloc = seatMatrix[m][n]\n",
    "            if seatAlloc != '.':\n",
    "                if seatAlloc == '#': \n",
    "                    totalOccupied += 1 \n",
    "                break\n",
    "            m = m + pos[0]\n",
    "            n = n + pos[1]\n",
    "\n",
    "    # for direction in directions: \n",
    "    #     print(\"Checking \" + direction)\n",
    "    #     for pos in directions[direction]: \n",
    "    #         seatAlloc = seatMatrix[pos[0]][pos[1]]\n",
    "    #         if seatAlloc != '.':\n",
    "    #             if seatAlloc == '#': \n",
    "    #                 totalOccupied += 1\n",
    "    #             break\n",
    "            \n",
    "    return totalOccupied\n",
    "\n",
    "def modPlan(seatMatrix):\n",
    "    changed = 0 \n",
    "    modifiedPlan = deepcopy(seatMatrix)\n",
    "    for i in range(len(seatMatrix)): \n",
    "        for j in range(len(seatMatrix[i])): \n",
    "            currSeat = seatMatrix[i][j]\n",
    "            # print(\"checking \" + currSeat)\n",
    "            adjOccupied = checkDirections(seatMatrix, i, j)\n",
    "            # print(adjOccupied) \n",
    "            if currSeat == 'L' and adjOccupied == 0: \n",
    "                modifiedPlan[i][j] = '#'\n",
    "                changed += 1\n",
    "            elif currSeat == '#' and adjOccupied >= 5: \n",
    "                modifiedPlan[i][j] = 'L'\n",
    "                changed += 1\n",
    "    return modifiedPlan, changed\n",
    "\n",
    "def printOccupied(seatMatrix): \n",
    "    ret = 0\n",
    "    for row in seatMatrix: \n",
    "        ret += row.count(\"#\")\n",
    "    print(ret)"
   ]
  },
  {
   "cell_type": "code",
   "execution_count": 133,
   "metadata": {
    "tags": []
   },
   "outputs": [
    {
     "output_type": "stream",
     "name": "stdout",
     "text": [
      "#.##.##.##\n#######.##\n#.#.#..#..\n####.##.##\n#.##.##.##\n#.#####.##\n..#.#.....\n##########\n#.######.#\n#.#####.##\n\n#.LL.LL.L#\n#LLLLLL.LL\nL.L.L..L..\nLLLL.LL.LL\nL.LL.LL.LL\nL.LLLLL.LL\n..L.L.....\nLLLLLLLLL#\n#.LLLLLL.L\n#.LLLLL.L#\n\n#.L#.##.L#\n#L#####.LL\nL.#.#..#..\n##L#.##.##\n#.##.#L.##\n#.#####.#L\n..#.#.....\nLLL####LL#\n#.L#####.L\n#.L####.L#\n\n#.L#.L#.L#\n#LLLLLL.LL\nL.L.L..#..\n##LL.LL.L#\nL.LL.LL.L#\n#.LLLLL.LL\n..L.L.....\nLLLLLLLLL#\n#.LLLLL#.L\n#.L#LL#.L#\n\n#.L#.L#.L#\n#LLLLLL.LL\nL.L.L..#..\n##L#.#L.L#\nL.L#.#L.L#\n#.L####.LL\n..#.#.....\nLLL###LLL#\n#.LLLLL#.L\n#.L#LL#.L#\n\n#.L#.L#.L#\n#LLLLLL.LL\nL.L.L..#..\n##L#.#L.L#\nL.L#.LL.L#\n#.LLLL#.LL\n..#.L.....\nLLL###LLL#\n#.LLLLL#.L\n#.L#LL#.L#\n\n#.L#.L#.L#\n#LLLLLL.LL\nL.L.L..#..\n##L#.#L.L#\nL.L#.LL.L#\n#.LLLL#.LL\n..#.L.....\nLLL###LLL#\n#.LLLLL#.L\n#.L#LL#.L#\n\n26\n"
     ]
    }
   ],
   "source": [
    "changed = -1\n",
    "currMatrix = deepcopy(sampleMatrix)\n",
    "while changed != 0: \n",
    "    currMatrix, changed = modPlan(currMatrix)\n",
    "    printMatrix(currMatrix)\n",
    "    print() \n",
    "printOccupied(currMatrix)"
   ]
  },
  {
   "cell_type": "code",
   "execution_count": 134,
   "metadata": {},
   "outputs": [
    {
     "output_type": "stream",
     "name": "stdout",
     "text": [
      "#L#L#L#L#.L.#L#L.#L#L.#L#L#L#L.#L#L#L#L#L#L#.L#LL.#L#L#L.#L#L..#L#L#L.#L#L#L#L.#L#L#.L#.L#L#L#L#L#\nLLLLLLLLL.#LLLLLLLLL..LLLLLLLL.LLLLLLLL.LLLL.#LL#.LLLL.LLLLLL.LLLLLLLLLLLLLLL..LL.LLLLLLLLLLLLLLLL\n#L#L#L#L#.LL#L#L.#L#..L#L#L#L#.LL#L#L#L.#L##.LL#L.##L#L#.L#L#L#L#L#L#L#L#L#L#LLL#L##L#L#L#L#L#L#L#\nLLLLLLLLL.#LLLLL.LLLL#LLLLLLLL.#LLLLLLL.LLLLL#LLL.LLLLLL.LLLL.LLLLLLL.LLLLLLL.#LLLLLLLL.LLLLLLLLLL\n#L#.L#L##.LL#L#L#L#L..L#L#L#L#.LL#L#L#L.#L#L.LL#L.##L#L#.L##L.#L#L#LLL#L#L#L#.LL#L#L#L#.L#L#L#L#L#\nLLLL#LLLL.#LLLLLLLLL#LLLLLLLLLL#.LLLLLL.LLLL.#LLL.LLLLLL.LLL#LLLLLLL#.LLLLLLL.#LLLLLLLLLLLLLLLLLLL\n#L#LLL#L#LLL#L#L#L#LLL#L#L#L.#.LL#L#L#L.#L#L.LL#L#LL#L#..L#LL.L.#L#LL.#L#L#L#.LL#L#L#L#.L#L#L#L#L#\nLL.L#LLLL.#LLLLL.LLL#LLLLLLL.LL#LLLLLLL.L.LL#LLLL.LLLLLL.LL#L#LLLLLL#LLLLLLLL.#LLLLLLLL.LLLL.LLLLL\n#LLLLL#L#.LL#L##.L#LL.#L#L#L#L.LL#L#L#L.LL.#.L##L.L.L#L#L#LLL.L#L#LLL.#L#L#L#LLL#L#L#L#.LL#LL#L#L#\n......L.L.#....LL.L.#..L.L..LL...L......#L..L.....#.LL.LLLL.#L.L..L#........L..LL.LLL.L..L.LL.L..L\nL#L#L#L#L.LLL#L#.LL#L.LLL#L#L#LL#.L.#L#LLL#LLLLLLL.L#L#L.L#LL.#L#LLLL#L#L#L#L.L#LL#LL.#.L#.L#L#LL#\n#LLLLLLLL.##LLLL.#L#L.L#L#LLLL.#LL#LLLL.#L#L.#L#L#LLLLL#.LL#L.LLL#L#LLLLLLLLL#LLLLLL#.L.LLLLLLL#LL\nLL#L#L#L#.LLL#L#LLLLL.LLLL.#L#.LL#LL.#L.LLLLLLL#L.L#L#LL.LLL..L#LLLLL#L#L#L#L.#L#L#LLL#.L#L#L#LLL#\n#LLLLLLLL.#L#L.#L#L#L#L#L#LLLL.#LLL#LLL#L#L#.LLLL.L.LLL#.L#L#.LLL#L#LLLLLLLL#.LLLLLL#LLLLLLLLLL#LL\nLL#L#L#L#LLLLL#LLLLLL.LL.#L#L#.LL#LLL#L.LLLLL#L#L.#L##LL.LLLL.L#LLLLL.#L#L#LL.#L#L#LL.#...L#L#LLL#\n#LLLLLLLLL#L#LLL.#L#L.#L#L..LLL#LLL#LLLL#L#L#LL##.LLLL#L#L#L#.LLL#L.#LLLLLLL#.LLLL.L#LLLL#LLLLL#.L\nLL#L#L#L..LL.L#L#LLLLLLLLL#L#L.LL#LLL#L.LLLLLLLLL.#L#LLL.LLLLLL#LLLLL.#L#L#LLL#L#LLLLL#.LLL#L#LLL#\n#LLLLLLL.#L#.LLLLL##L#L#LLLLLL.#LLL#LLL.#L#L.L###.LLL#L#.L#L#.LLL##L#.LLLL.L#.LLLL#L#LLLL#LLLLL#LL\nLL..#.....L..#.L...LL...........L#L.L.#..L.L.....L#....LL....L...L...L..L#.L...L#.LL.LL#.L.L.#L.L.\n#L#LLLL.#.LLLLL#.LL#.L#L#L#L#L#L#LLL#LL.L#L#.LL.LLLL#LL#L#L#L##L##LLL.L#LLLLL.LLL#L#L#L.LL#LLLLLL#\nLLLL#LLLL.##L.LL.#LLL.LLLLLLLL.LLL#LLL#.LLLLL#.L#.#L#L.#LLLLL.LLLL#L#.LLL#L#L#L#LLLLL#.L#L.#L#L#LL\n.L#LLL#L#.LLL#L#LLL#L.#L#L#L#L.#LLLL#L#L#L##.LLLL.LLLLLL.#L#LL#L#LLLL.L#LLLLL.LLL#L#.LL.LLLLLLLLL#\n#LLL#LLLL.##LLLL.#LLL.LLLLLLLL.LL#L#LLL.LLLLL#L#L.L#L#L#LLLLLLLL.L#L#.LL#L#L#.L#LLL.L#L.L#L#L.L#LL\nLL#LLL#L#.LLL#L#.LL#L#L#L#L#LL.#LLLLL#L#L#L#.LLLL.LLLLLL.#.L#.L#LLLLL.#LLLLLLLL.L#LLLLL.LLLLL#LLL#\n#LLL#LLLLL#L#LLLL#LLL.LLLLLLL#.LL#L#LLLLLLLL.#L#L#L#L#L#..LLL.LL#L#L#.LLL#L#L.#LLLLL#L#.L#L#LLL#LL\nLL#LLL#L#.LLLL#L.LL#L.#L#L#LLL.#LLLLL#L.#.L#.LLLL#LLLLLL#LL.L#LLLLLLL.##LLLL#LLL#L#LLLL.LLLLL#LLL#\n#LLL#LLLL.#L#LLL.#LLL.LLLLLL##LLL#L#LLL#LL#L.#L#L.LL#L#LLLL#LL#L#L#L#.LL#L#LL.#LLLLL#L#.LL.#LL.#LL\nLL#LLL#L#.LLLL#L.LL#L.L#L#L#LL..LLLLL#L.LLLL.LLLL.#LLLLLL#LL#.LLLLLLL.#LLL#L#.LL#L#LLLL#L#L#LLLLL#\n.L..L..L..........#...L.LL..L...##....LL..#L..#...L.#L.#.L..LLL#..L.#....L.......LL........L.#..L.\n#LL#L#LLL#L#L#L#.LLL#L#L#L#L#L.#LLL#LL#L#LLL.LLLL.#LLLLLL#LL#.LLL#.LL.LLL#LLL#L#LL#L#L#L#LL#LLL#LL\nLL#LLLL#L.LLLLL#.L#LLLLL.LLLLL.LL#LLL#L.LL#L#L.##.LLL#L#.LLLLLL#LLL#L#L#LLL#L.LLLLLLLLLLLLLLL#LLL#\n#LLL#L#LL.##L#LL.LLL#L#LL#L#LL#LLL.#LLL.LLLL.LLLL.#.LLLL.#L#L#LLL#LLL.LLL#LLLL#L#L#L#L#.L#L#LLL#LL\nLL#LLLLL#.LLLLL#.L#LL.LL#LLLLL.L#L#LL#L..#L#.L###.LLL#L#LLLLL.L#L.LL#.L#LLL##.LLLLLLLLL.LLLLL#LLL#\n#LLL#L#LL.#L#L#LLLLL#.LLLL#L#L.LLLLLLLL.#LLL.#LLL.##LLLL.#L##.LL#L#LL.LLL#LLL.#L#L#L#L#.L#L#LLL#LL\nLL#LLLLL#.LLLLLL.#L#L.#L#LLLLL.#L#L#L#L.LL##.LL##.LLL#L#.LLLL.#LLLLL#LL#LL#L#LLLLLLLLLLLLLLLL#LLL#\n#LLL#L.LL.#L.L##.LLLL.LLLL#L#L.LLLLLLLL#LLLL.#LLL.##LLLL.L#L#.LL#L#LL.LLLLLLL.#L#L.#L.#L#L#LLLL#LL\nLL#LLLL.#.LL#..LL.#L#L#L#LLLLL.#L#L#L#LL.###.LL##.LL#L#..LLLL..LLLL.L.#L#L#L#.LLL#L#.LL.LLLL#LLLL#\n#.LL...L..#..L.....L...L..L#...L..LL.L.....LL.#L.L...LL.L#...L....#L#.L..LL.L.#.LL..L..#L.#.L.#..L\nLL#L#L#LLLLLL#L#L#L#L.L#L#LLLL.L#L#L#L#.L#LL.LLLL.L#LL##LLL#L##L#LLLL.L#L#L#LLLL#L#L#LLL#LLL#LLLL#\n#LLLLLLL..#LLLLL.#L#L.L#LLL#L#.LL.LLLLL.L#L#.L#.#.LLLLLL.#LLL.LLL#L#L#LLLLLLL.#LLLLL#L#.L.#LL.L#LL\nLL#L#L#L#LLL#L#L.LLLL#LLL#LLLL.#L#L#L#L.LLLL.#LLL.L#L#L#.LL#L.#LLLLLL.LL#L#L#.LL#L#LLL..#LL#L#LLL#\n#LLLLLLLL.#LLLLL.#L#L.LL#LLL#L.LL#LLLLL..#L#LLL#L#LLLLLL##LL#L#L#L#.L.#LLLLLL##LLLLL#LLLL#LLLLL#LL\nLL##L#L#L.LL#L#L.LLLL.#L#L#L#L.LLLL#L#L.LLLL.#LLL.#L#L#L..#LL.#L..L.L.###.LLL.LL#L#LLL#.L#L#L#L#L#\n#...LLL.L......LL....L.......L..#.LLL..L#.L#.L.....LL.LL.L....L.L....LL....#....LL...L.#.....L....\nLLLLLL#L#.LLL#L#.L.#L.L#L#L#L#.LLLL##L#.LL#LL##LLLL#L#LLL#LLL.L#L#LLL.###LLL#.L##LLLL#LL#L#L#L#L#L\nLL#L#L#L#L#L#LLL.#LLL.L#L#L#L#L#L#LLLLLLLLL.#LLL#.LLL#L##LLL#.LLLLL#L.LLLL#LLL#LLL#L#LL.#L#LLLLLLL\n#LLLLLLLL.#LLLLLLLLLL#LLL#LLL#.LLLL#L#L.#L#L.#LLL.L#L#LLLL#L#.L#L#LLL.#L#LLL#.#L#LLLLL#LLLLLL#L#L#\nL#L#L#L#L.LL.#L#L#L#L.L#L.L#LLLLL#L..LL.#L#L.LLLL#L#L#L#..L.L.L#L#L#L.#L.L#LL.LLLL#L#LL.#L##L#LLLL\n....L.L..#.L...L....L..#...L.#L#...L..LL.L..L.#L.L....L.................L...L#.L#......L...L...#L.\n#L#L#LLLL.#L#L#L#LLLL.LLLL#LLLLLLL#L##L#L#L#.LLLLL#L#L#LLL#LL.#L#L#LL.L#L#L#..LLLLLLL#L#LLL#LLLLL#\nLLLLLL#L#LLLLLLL.#L#L.#L#L#L#L#L#LLLLLL.LLL#.L###.LL#LLL.LLL#.LLLLL.##LLLLLLL.#L#L#L#LL.L#LLL#L#LL\n#L#L#LLLL.#L#L#L.LLL#.LLLLLLLL.LLL#L#LL.#.LL.LLLL.#LLL.L##L#L.#L#LLLLLL#L#L#.LLLLLLLLL#LL.L#LLLLL#\nLLLLLL#L#.LLLLLL.##LLLL#L#L#LL.#L.LLLL#.LLLL#L###.LL#L#L.LLLL.LLLL#L#.LLLLLLL##L#L#L#LLL#LLLL#L#LL\n#L#L#LLLL.##L#L#.LLL#.LLL#LLL#.LL#L#LLL.LL#L.LLLLL#L#L#L.#L#L#L##LLLL.L#L#L#L.LLLLLLLL#LLL#L#LLLL#\n.....#.L#LL.L.........#L.L..L...LL..L#L..L......##L.....L.......L.#L.#.L........L...#LLL##.L..L#L.\nLLL#.LLLLL#L#LLL.#L#L.LLL#L#LLLL#L#LLLL.#LLL.##LL.L#L#L#.L#LLL#L#LLLL.LL#L#L#.L#L##LLL#L.LL#L#LLLL\n#LLLLL#L#.LLLLL#.LLLL.#.LLLLL#.LLLLL#L#LLLL#.LL.#.L#LLLLL.#L#.L.LLL#LL#L#LLLL.LLLLLL.#L.L#LLLLL#L#\nLL#L#LLLL.L#L#LL.#LLL.#LL#L#LL.#L#LLLLL.L#LLL#LLL.LLL#L#.LLLL.L#L#LLLL#LLL#L#.L#L#LLLLL#LLL#L#LLLL\n#LLLL#L#L#LLLL#L.LL#L.L#L#L#L#LLLL#L#LL#L#.#LLLL#..#LLLLLL#L#.LLLLL.#.LL#LLLL.#LLLL#L#L.L#L#L.L#L#\nLL#L.....L.#...L.....L..L.L..L......L#..L...##...L.LL#.L.L..L....#......LL.L#.L..#.L....L...LL..LL\n#LLL#L#L#.L#L#L#.LLLL.#L#L#L#L.LL#L#LLL.#L#LLLL#LLL#LLLL.#LLL#L#LLLLL#LL#L#LL.##LLLL#L#L#L#L#L#L.#\nLL#LLLLL#.L.LLLLL#L#L.LLLLLLLL.#LLLLL#LLLLLLL#LLL.#L.#L#..LL#LLLLL#L#.L.LLLL#LLLLL#L#L#.LLLLLLLLLL\n#LLL#L#LL.#L#L#L.LLLL.L#L#L#L#L#L#L#.LL.##L#.LLL#.LLLLLL.L#LL.#L#LLLLL#L#L#LL.#L#LLLLLL.L#L#L#L#L#\nLL#LLL.L#.LLLLLL.#L#L#LLLLLLLL.LLLLLLL#.LL.L..#LL.##L#L##LLL#LLLLL#L#.LLLLLL#.LLLL#L#L#.LLLLLLLLLL\n#LLL#LLLL.#L#L#L.LLLLL#L#L#L#L#L#L#L#LLLLL#..LLL#LLLLLLL.L#LL.#L#LLLL.#L#L#LLLL#L#LLL.#.L#L#L#L#L#\nLL#LLL#L#.LLLLLL.#L#L.LLLLLLLL.LLLLLLL#.#LLL.#.LL.#LL#L#.LLL#LLLLLL#L.LLLLLL#.LLLLL#LLL.LLLLLLLLLL\n#LLL#LLLLLL#L#L#.LLLL.#L#L#L#L.L#L#L#LL.L.L#L#L#LLLL#LLL.L#LLL#L#L#LL.#L#L.LL.##L#LLL#L#L#L#L#L#L#\n..#L.L#...L....LL#L#.....L.L..LL.L...#L#L.............L..L.L#L..........L.#...LL..L#.....LL.......\nLLLLLLLL##LLLL#LLLLLL.LLLLLLLL.#L#L#LLL.LL#L.LLLL.##L#L#.LLLL.L#L#L#L.L#L#LLL.##.LLLLLL.#L#LLLLLLL\n#LLL#L#LL.#L#LL..#L#L.#L#L#L#LLLLLLLL#LL#LLL.#L#L.LLLLLL.L#L#.LLL#LLLLLLLLL##LLLL#L#L##.LLLLL#L#L#\nLL#LLLLL#.LLLL#LLLLLL.LLLLLLLLL#L#L#.L#.LL#L.LLLLL##L#L#LLLLL.#L#LLL#.L#L#LLL.L#L#LLL.LL#LL#LLLLLL\n#LLL#L#LL.#L#LLL.#L#L#L#L#L#L#.LLLLLLLLL#LLL#L#L#LLLLLLL.##L#.LLLL#LL.LLLLL#L.LLL.LL#L#.LL#.L#L#L#\nLL#LLLL#L.LLLL#L.LLLL.LLLLLLLL.#LL#L#L#.LL#L.LLLLL#.#L##.LLLL.#L#LLL#.L#L.LL..#L#L#LLLL.LLLLLLLLLL\n#LL#L#LLL.#L#LLL##L#L.#LL#L#L#.L#LLLLLL.#LLL.#L#L.LLLLLL.L#L#.LLLL#LL.LLL#L#L.#LLLLL#L#.L#L#L#L#L#\nL#LLLLL#L.#L.L#L.LL#L.L#LL.LLL.LLL#L#L#LL#L#L#L#L.#L#L#L#L#LL.L#L#LLL#L#L#L#L#LL#L#L#L..#LLLLLLLLL\n..L#L#.LLL...LLLL#..........L...#......L..LL.....#..#..L..L.#..L..L.#..L.......L..L....LL.L.L.L.L.\n#LLLLL.L#.L#L#L#.LLL#.LLLLL#L#.LLLLLL#L.#L#L#L#LL.LLL.LL.#L#L.LL#LLLL.#L#L#LL.#LL#L#L#L.L#L#L#L#L#\nLL#L#L#.L.LLLLLL#L#LL.##L#LLLLL#L#L#LLL.LLL..LLL#..LLLL#L#LLL#LLLL#L#LLLLLLL#.LL#.LLLLL#LLLLLLLLLL\n#LLLLLLLL.#L#L#L.LL#L.LLLL.#L#.LLLLLL#L#L#LL.##LL.#LL#LL.LL#L.L#L#LLLL#L#L#LL.L#LLL#L#L.L#L#L#L#L#\nLL#L#L#L#.LLLLLL.#LLLLL#L#LLLLL#L#L#LLLLLLL#.LLL#.LLLLLL#L#L.LLLLLL##.LLLLLL#LLLL#LLLLL..LLLLLLLLL\n#LLLLLLLL.#L#L#L.LL#L#LLLL#L##.LLLLLL#L.#LLL.#LL..#L#L.#LL.L#.L#L#LLL.#L#L#LL.#L#LL#LL#.L#L#L#L#L#\nLL#L#L#L#.LLLLLLL#LLLL#L#LLLLL.#L#L#LLL.LL##LL.LL.LLLLLLL#LLL.LLLLL#LLLLLLLL#.LLLL.LL#L.LLLLLLLLLL\n#LLLLLLLLL##L#L#.L#L#.LLL#L#L#.LLLLLL#L.#LLL.##L..##L#L#LLL#L#L#L#LLL##L#L#LL.##L#L#LL...#L#L#L#L#\nL.#L#LL#L.LLLLLLL.LLL.##LLLLLLL#L#L#LLL.L#L#.LLL#LLLLLLL.#LLL.LLLLL#L.LLLLLL#.LLLLLL.L#LLLLLLLLL.#\n#LLLL#L.L.L#L#L#L#L#L.LLL#LL#L.LLLL#L#L#LLLL#L#LL.#L#L#L..L#LLL#L#LL..#L#L#LL.#L#L#L#L#L#L#L#L#L#L\n.L#...............L..L.#.LL...#.L#.....L#..L.LL.#.L...L.......#..L.L#..L.L...LL...L...............\nLLLL#L#L#.LL#L#L..#L#.LLL#L#LL.#LLLL#L#.LL##L#LLLLL#L#L#LLLL#LLL#L#LLLL#L#LLLLL#L#L#L#L#L#L#L#L#L#\n#L#LLLLLL.#LLLLL.LLLL.L#LLLLL#LLL#L.LLL.#LLL.LL#L#LLLLLLL#LLLL#LLLLL#.LLLLL#L.#LLLLLLLL#LLLLLLLLLL\nLLLL#L#L#.L#L#L#L#L#L#LLL#L#LLL#LLL##L#.LL#L.#.LLLL#L#L#LL.L#.LL#L#LLLL#L#LLLLLL#L#L#L#.L#L#L#L#L#\n#L#.LLLLLLLLLLLL.LLLL.#LLLLLL#LLL#LLLLL.L.LLL.LL#LLL.LLL.L#LL.#.LLLL#.LLLLL#L#LLLLLLLLLLLLLLLLLLLL\nLLLL##L#L.#L#L#L#L#L#LL#L#L#LL.#LL#L#LL#L#L#.L#LL.#L#L#L#L.L#.LL#.L#L.#L#L#LLLL#L#L#L#L#L#L#L#L#L#\n#L#LLLLLL.LLLLLLLLLLLLL.LLLLLL.LL.LLLLL.LLLLLLLLLLLLLLLL.LLLL.LLLLLLL.LLLLLL#.LLLLLLLLL.LLLLLLLLLL\n#.L#L#L#L#L#L#L#L#L#L.#L#L#L#L.#L#L#L#L.#L#L.#L##.L#L#L#.L#L#.L#L#L#..L#L#L#L.#L#L#L#L#.L#L#L#L#L#\n2138\n"
     ]
    }
   ],
   "source": [
    "changed = -1\n",
    "currMatrix = deepcopy(seatMatrix)\n",
    "while changed != 0: \n",
    "    currMatrix, changed = modPlan(currMatrix)\n",
    "printMatrix(currMatrix) \n",
    "printOccupied(currMatrix)"
   ]
  },
  {
   "cell_type": "code",
   "execution_count": null,
   "metadata": {},
   "outputs": [],
   "source": []
  }
 ]
}
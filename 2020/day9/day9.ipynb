{
 "metadata": {
  "language_info": {
   "codemirror_mode": {
    "name": "ipython",
    "version": 3
   },
   "file_extension": ".py",
   "mimetype": "text/x-python",
   "name": "python",
   "nbconvert_exporter": "python",
   "pygments_lexer": "ipython3",
   "version": "3.9.0-final"
  },
  "orig_nbformat": 2,
  "kernelspec": {
   "name": "python3",
   "display_name": "Python 3",
   "language": "python"
  }
 },
 "nbformat": 4,
 "nbformat_minor": 2,
 "cells": [
  {
   "cell_type": "code",
   "execution_count": 5,
   "metadata": {},
   "outputs": [],
   "source": [
    "inFile = open(\"input\", 'r') \n",
    "nums = inFile.readlines()\n",
    "nums = [int(n.replace('\\n', '')) for n in nums]\n",
    "\n",
    "sampleInput = [ \n",
    "    35,\n",
    "    20,\n",
    "    15,\n",
    "    25,\n",
    "    47,\n",
    "    40,\n",
    "    62,\n",
    "    55,\n",
    "    65,\n",
    "    95,\n",
    "    102,\n",
    "    117,\n",
    "    150,\n",
    "    182,\n",
    "    127,\n",
    "    219,\n",
    "    299,\n",
    "    277,\n",
    "    309,\n",
    "    576\n",
    "]\n",
    "\n",
    "\n"
   ]
  },
  {
   "cell_type": "code",
   "execution_count": 14,
   "metadata": {},
   "outputs": [],
   "source": [
    "def isValid(numSet, testNum): \n",
    "    for n in numSet: \n",
    "        if (testNum - n) in numSet and testNum != 2*n: \n",
    "            return True\n",
    "    return False\n",
    "\n",
    "def checkNumList(window, numList):\n",
    "    startNum = 0 \n",
    "    while True: \n",
    "        numSet = numList[startNum:window + 1]\n",
    "        testNum = numList[window + 1]\n",
    "        # print(testNum)\n",
    "        if not isValid(numSet, testNum): \n",
    "            return testNum\n",
    "        else: \n",
    "            startNum += 1\n",
    "            window += 1\n",
    "\n",
    "    "
   ]
  },
  {
   "cell_type": "code",
   "execution_count": 15,
   "metadata": {},
   "outputs": [],
   "source": [
    "def findRange(invalidNum, numList):\n",
    "    for i in range(len(numList)): \n",
    "        upperNum = 1\n",
    "        while True: \n",
    "            currSum = sum(numList[i:i+upperNum])\n",
    "            if currSum == invalidNum: \n",
    "                return numList[i:i+upperNum]\n",
    "            elif currSum > invalidNum: \n",
    "                break\n",
    "            upperNum += 1\n"
   ]
  },
  {
   "cell_type": "code",
   "execution_count": 19,
   "metadata": {},
   "outputs": [
    {
     "output_type": "stream",
     "name": "stdout",
     "text": [
      "18527440 37205496\n55732936\n"
     ]
    }
   ],
   "source": [
    "invalidNum = checkNumList(25, nums)\n",
    "sumList = findRange(invalidNum, nums)\n",
    "lowest = min(sumList)\n",
    "largest = max(sumList)\n",
    "print(lowest, largest)\n",
    "print(lowest + largest )\n"
   ]
  },
  {
   "cell_type": "code",
   "execution_count": null,
   "metadata": {},
   "outputs": [],
   "source": []
  },
  {
   "cell_type": "code",
   "execution_count": null,
   "metadata": {},
   "outputs": [],
   "source": []
  }
 ]
}
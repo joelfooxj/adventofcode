{
 "metadata": {
  "language_info": {
   "codemirror_mode": {
    "name": "ipython",
    "version": 3
   },
   "file_extension": ".py",
   "mimetype": "text/x-python",
   "name": "python",
   "nbconvert_exporter": "python",
   "pygments_lexer": "ipython3",
   "version": "3.9.0-final"
  },
  "orig_nbformat": 2,
  "kernelspec": {
   "name": "python3",
   "display_name": "Python 3",
   "language": "python"
  }
 },
 "nbformat": 4,
 "nbformat_minor": 2,
 "cells": [
  {
   "cell_type": "code",
   "execution_count": 9,
   "metadata": {},
   "outputs": [],
   "source": [
    "import time"
   ]
  },
  {
   "cell_type": "code",
   "execution_count": 12,
   "metadata": {},
   "outputs": [],
   "source": [
    "inFile = open(\"input\", 'r') \n",
    "operations = inFile.readlines()\n",
    "operations = [o.replace('\\n', '') for o in operations]\n",
    "\n",
    "sampleInput = [ \n",
    "    'nop +0',\n",
    "    'acc +1',\n",
    "    'jmp +4',\n",
    "    'acc +3',\n",
    "    'jmp -3',\n",
    "    'acc -99',\n",
    "    'acc +1',\n",
    "    'jmp -4',\n",
    "    'acc +6'\n",
    "]\n",
    "\n",
    "\n"
   ]
  },
  {
   "cell_type": "code",
   "execution_count": 7,
   "metadata": {},
   "outputs": [],
   "source": [
    "def parseOp(operation): \n",
    "    op, val = operation.split(' ')\n",
    "    return {'op': op, 'sign':val[0], 'val':val[1:]}"
   ]
  },
  {
   "cell_type": "code",
   "execution_count": 43,
   "metadata": {},
   "outputs": [],
   "source": [
    "def checkCycles(operations):\n",
    "    acc = 0\n",
    "    executedSet = set() \n",
    "    currOpNum = 0\n",
    "    terminates = True\n",
    "    while currOpNum < len(operations): \n",
    "        if currOpNum in executedSet: \n",
    "            terminates = False \n",
    "            break\n",
    "        executedSet.add(currOpNum) \n",
    "        opNode = operations[currOpNum] \n",
    "        if opNode['op'] == 'nop': \n",
    "            currOpNum += 1\n",
    "        elif opNode['op'] == 'acc':\n",
    "            acc += int(opNode['sign'] + opNode['val'])\n",
    "            currOpNum += 1\n",
    "        else: \n",
    "            jump = int(opNode['sign'] + opNode['val'])\n",
    "            currOpNum += jump\n",
    "    return terminates, acc\n",
    "\n"
   ]
  },
  {
   "cell_type": "code",
   "execution_count": 46,
   "metadata": {
    "tags": []
   },
   "outputs": [
    {
     "output_type": "stream",
     "name": "stdout",
     "text": [
      "1303\n"
     ]
    }
   ],
   "source": [
    "opNodes = []\n",
    "for s in operations: \n",
    "    opNodes.append(parseOp(s))\n",
    "\n",
    "opNum = 0\n",
    "while opNum < len(opNodes): \n",
    "    if opNodes[opNum]['op'] == 'nop':\n",
    "        opNodes[opNum]['op'] = 'jmp'\n",
    "        terminates, acc = checkCycles(opNodes)\n",
    "        if terminates: \n",
    "            print(acc)\n",
    "            break\n",
    "        else:\n",
    "            opNodes[opNum]['op'] = 'nop'\n",
    "    elif opNodes[opNum]['op'] == 'jmp':\n",
    "        opNodes[opNum]['op'] = 'nop'\n",
    "        terminates, acc = checkCycles(opNodes)\n",
    "        if terminates: \n",
    "            print(acc)\n",
    "            break\n",
    "        else:\n",
    "            opNodes[opNum]['op'] = 'jmp'\n",
    "    opNum += 1\n",
    "    # print(opNum)\n",
    "    \n"
   ]
  },
  {
   "cell_type": "code",
   "execution_count": null,
   "metadata": {},
   "outputs": [],
   "source": []
  }
 ]
}
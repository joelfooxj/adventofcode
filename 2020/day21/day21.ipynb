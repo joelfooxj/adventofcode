{
 "metadata": {
  "language_info": {
   "codemirror_mode": {
    "name": "ipython",
    "version": 3
   },
   "file_extension": ".py",
   "mimetype": "text/x-python",
   "name": "python",
   "nbconvert_exporter": "python",
   "pygments_lexer": "ipython3",
   "version": "3.9.0-final"
  },
  "orig_nbformat": 2,
  "kernelspec": {
   "name": "python3",
   "display_name": "Python 3",
   "language": "python"
  }
 },
 "nbformat": 4,
 "nbformat_minor": 2,
 "cells": [
  {
   "cell_type": "code",
   "execution_count": 5,
   "metadata": {
    "tags": []
   },
   "outputs": [
    {
     "output_type": "stream",
     "name": "stdout",
     "text": [
      "['mxmxvkd kfcds sqjhc nhms (contains dairy, fish)', 'trh fvjkl sbzzf mxmxvkd (contains dairy)', 'sqjhc fvjkl (contains soy)', 'sqjhc mxmxvkd sbzzf (contains fish)']\n"
     ]
    }
   ],
   "source": [
    "inFile = open(\"input\", 'r') \n",
    "lines = inFile.readlines()\n",
    "lines = [l.replace('\\n', '') for l in lines if l != '\\n']\n",
    "\n",
    "inFile = open(\"input2\", 'r') \n",
    "sampleLines = inFile.readlines()\n",
    "sampleLines = [l.replace('\\n', '') for l in sampleLines if l != '\\n']\n",
    "\n",
    "print(sampleLines)\n",
    "\n",
    "def parseLines(lines): \n",
    "    foods = [] \n",
    "    for l in lines: \n",
    "        \n",
    "\n",
    "\n"
   ]
  }
 ]
}